{
 "cells": [
  {
   "cell_type": "code",
   "execution_count": 1,
   "id": "eaac1286",
   "metadata": {
    "_cell_guid": "b1076dfc-b9ad-4769-8c92-a6c4dae69d19",
    "_uuid": "8f2839f25d086af736a60e9eeb907d3b93b6e0e5",
    "execution": {
     "iopub.execute_input": "2022-06-06T14:19:28.246641Z",
     "iopub.status.busy": "2022-06-06T14:19:28.246037Z",
     "iopub.status.idle": "2022-06-06T14:19:29.257742Z",
     "shell.execute_reply": "2022-06-06T14:19:29.257090Z"
    },
    "papermill": {
     "duration": 1.0305,
     "end_time": "2022-06-06T14:19:29.260296",
     "exception": false,
     "start_time": "2022-06-06T14:19:28.229796",
     "status": "completed"
    },
    "tags": []
   },
   "outputs": [],
   "source": [
    "import numpy as np # linear algebra\n",
    "import pandas as pd # data processing, CSV file I/O (e.g. pd.read_csv)\n",
    "import matplotlib.pyplot as plt # visualization\n",
    "import seaborn as sb # visualization"
   ]
  },
  {
   "cell_type": "markdown",
   "id": "3630eb0d",
   "metadata": {
    "papermill": {
     "duration": 0.013557,
     "end_time": "2022-06-06T14:19:29.287898",
     "exception": false,
     "start_time": "2022-06-06T14:19:29.274341",
     "status": "completed"
    },
    "tags": []
   },
   "source": [
    "#### Description of Project and Dataset\n",
    "This Jupyter notebook serves as my submission for the \"Writing a Data Scientist Blog Post\" project for the Udacity Data Scientist Nanodegree.\n",
    "\n",
    "I'll be using the Seattle Airbnb dataset to answer the following 4 questions, following the CRISP-DM process, that will hopefully be of interest and of use to Airbnb homeowners and renters:\n",
    "\n",
    "1. Which is the busiest month of the year for Airbnbs in Seattle?\n",
    "2. How much do prices increase for the busiest months in the year for Airbnbs in Seattle?\n",
    "3. Does the popularity (availability) of Airbnb homes correlate to their review score?\n",
    "4. Does the popularity (availability) of Airbnb homes correlate to their price?"
   ]
  },
  {
   "cell_type": "markdown",
   "id": "e1a6ac22",
   "metadata": {
    "papermill": {
     "duration": 0.013041,
     "end_time": "2022-06-06T14:19:29.314401",
     "exception": false,
     "start_time": "2022-06-06T14:19:29.301360",
     "status": "completed"
    },
    "tags": []
   },
   "source": [
    "#### 1. Which is the busiest month of the year for Airbnbs in Seattle?"
   ]
  },
  {
   "cell_type": "code",
   "execution_count": 2,
   "id": "a9b247a9",
   "metadata": {
    "execution": {
     "iopub.execute_input": "2022-06-06T14:19:29.342415Z",
     "iopub.status.busy": "2022-06-06T14:19:29.342050Z",
     "iopub.status.idle": "2022-06-06T14:19:30.367062Z",
     "shell.execute_reply": "2022-06-06T14:19:30.366367Z"
    },
    "papermill": {
     "duration": 1.041645,
     "end_time": "2022-06-06T14:19:30.369287",
     "exception": false,
     "start_time": "2022-06-06T14:19:29.327642",
     "status": "completed"
    },
    "tags": []
   },
   "outputs": [
    {
     "data": {
      "text/html": [
       "<div>\n",
       "<style scoped>\n",
       "    .dataframe tbody tr th:only-of-type {\n",
       "        vertical-align: middle;\n",
       "    }\n",
       "\n",
       "    .dataframe tbody tr th {\n",
       "        vertical-align: top;\n",
       "    }\n",
       "\n",
       "    .dataframe thead th {\n",
       "        text-align: right;\n",
       "    }\n",
       "</style>\n",
       "<table border=\"1\" class=\"dataframe\">\n",
       "  <thead>\n",
       "    <tr style=\"text-align: right;\">\n",
       "      <th></th>\n",
       "      <th>listing_id</th>\n",
       "      <th>date</th>\n",
       "      <th>available</th>\n",
       "      <th>price</th>\n",
       "    </tr>\n",
       "  </thead>\n",
       "  <tbody>\n",
       "    <tr>\n",
       "      <th>0</th>\n",
       "      <td>241032</td>\n",
       "      <td>2016-01-04</td>\n",
       "      <td>t</td>\n",
       "      <td>$85.00</td>\n",
       "    </tr>\n",
       "    <tr>\n",
       "      <th>1</th>\n",
       "      <td>241032</td>\n",
       "      <td>2016-01-05</td>\n",
       "      <td>t</td>\n",
       "      <td>$85.00</td>\n",
       "    </tr>\n",
       "    <tr>\n",
       "      <th>2</th>\n",
       "      <td>241032</td>\n",
       "      <td>2016-01-06</td>\n",
       "      <td>f</td>\n",
       "      <td>NaN</td>\n",
       "    </tr>\n",
       "    <tr>\n",
       "      <th>3</th>\n",
       "      <td>241032</td>\n",
       "      <td>2016-01-07</td>\n",
       "      <td>f</td>\n",
       "      <td>NaN</td>\n",
       "    </tr>\n",
       "    <tr>\n",
       "      <th>4</th>\n",
       "      <td>241032</td>\n",
       "      <td>2016-01-08</td>\n",
       "      <td>f</td>\n",
       "      <td>NaN</td>\n",
       "    </tr>\n",
       "  </tbody>\n",
       "</table>\n",
       "</div>"
      ],
      "text/plain": [
       "   listing_id        date available   price\n",
       "0      241032  2016-01-04         t  $85.00\n",
       "1      241032  2016-01-05         t  $85.00\n",
       "2      241032  2016-01-06         f     NaN\n",
       "3      241032  2016-01-07         f     NaN\n",
       "4      241032  2016-01-08         f     NaN"
      ]
     },
     "execution_count": 2,
     "metadata": {},
     "output_type": "execute_result"
    }
   ],
   "source": [
    "seattleCalendar = pd.read_csv('../input/seattle/calendar.csv')\n",
    "seattleCalendar.head()"
   ]
  },
  {
   "cell_type": "code",
   "execution_count": 3,
   "id": "5066e149",
   "metadata": {
    "execution": {
     "iopub.execute_input": "2022-06-06T14:19:30.397909Z",
     "iopub.status.busy": "2022-06-06T14:19:30.397471Z",
     "iopub.status.idle": "2022-06-06T14:19:30.813158Z",
     "shell.execute_reply": "2022-06-06T14:19:30.812503Z"
    },
    "papermill": {
     "duration": 0.432678,
     "end_time": "2022-06-06T14:19:30.815514",
     "exception": false,
     "start_time": "2022-06-06T14:19:30.382836",
     "status": "completed"
    },
    "tags": []
   },
   "outputs": [
    {
     "name": "stdout",
     "output_type": "stream",
     "text": [
      "<class 'pandas.core.frame.DataFrame'>\n",
      "RangeIndex: 1393570 entries, 0 to 1393569\n",
      "Data columns (total 4 columns):\n",
      " #   Column      Non-Null Count    Dtype \n",
      "---  ------      --------------    ----- \n",
      " 0   listing_id  1393570 non-null  int64 \n",
      " 1   date        1393570 non-null  object\n",
      " 2   available   1393570 non-null  object\n",
      " 3   price       934542 non-null   object\n",
      "dtypes: int64(1), object(3)\n",
      "memory usage: 42.5+ MB\n"
     ]
    }
   ],
   "source": [
    "seattleCalendar.info()"
   ]
  },
  {
   "cell_type": "code",
   "execution_count": 4,
   "id": "09156a9e",
   "metadata": {
    "execution": {
     "iopub.execute_input": "2022-06-06T14:19:30.845900Z",
     "iopub.status.busy": "2022-06-06T14:19:30.845405Z",
     "iopub.status.idle": "2022-06-06T14:19:31.839221Z",
     "shell.execute_reply": "2022-06-06T14:19:31.838098Z"
    },
    "papermill": {
     "duration": 1.011078,
     "end_time": "2022-06-06T14:19:31.841291",
     "exception": false,
     "start_time": "2022-06-06T14:19:30.830213",
     "status": "completed"
    },
    "tags": []
   },
   "outputs": [
    {
     "data": {
      "text/html": [
       "<div>\n",
       "<style scoped>\n",
       "    .dataframe tbody tr th:only-of-type {\n",
       "        vertical-align: middle;\n",
       "    }\n",
       "\n",
       "    .dataframe tbody tr th {\n",
       "        vertical-align: top;\n",
       "    }\n",
       "\n",
       "    .dataframe thead th {\n",
       "        text-align: right;\n",
       "    }\n",
       "</style>\n",
       "<table border=\"1\" class=\"dataframe\">\n",
       "  <thead>\n",
       "    <tr style=\"text-align: right;\">\n",
       "      <th></th>\n",
       "      <th>date</th>\n",
       "      <th>available</th>\n",
       "    </tr>\n",
       "  </thead>\n",
       "  <tbody>\n",
       "    <tr>\n",
       "      <th>0</th>\n",
       "      <td>2016-01-04</td>\n",
       "      <td>1</td>\n",
       "    </tr>\n",
       "    <tr>\n",
       "      <th>1</th>\n",
       "      <td>2016-01-05</td>\n",
       "      <td>1</td>\n",
       "    </tr>\n",
       "    <tr>\n",
       "      <th>2</th>\n",
       "      <td>2016-01-06</td>\n",
       "      <td>0</td>\n",
       "    </tr>\n",
       "    <tr>\n",
       "      <th>3</th>\n",
       "      <td>2016-01-07</td>\n",
       "      <td>0</td>\n",
       "    </tr>\n",
       "    <tr>\n",
       "      <th>4</th>\n",
       "      <td>2016-01-08</td>\n",
       "      <td>0</td>\n",
       "    </tr>\n",
       "  </tbody>\n",
       "</table>\n",
       "</div>"
      ],
      "text/plain": [
       "        date  available\n",
       "0 2016-01-04          1\n",
       "1 2016-01-05          1\n",
       "2 2016-01-06          0\n",
       "3 2016-01-07          0\n",
       "4 2016-01-08          0"
      ]
     },
     "execution_count": 4,
     "metadata": {},
     "output_type": "execute_result"
    }
   ],
   "source": [
    "# To better work with the data in the 'available column', I'll replace the t/f values to 1/0 int values \n",
    "seattleCalendar['available'].replace({'t': '1', 'f': '0'}, inplace=True)\n",
    "seattleCalendar['available'] = seattleCalendar['available'].astype(str).astype(int)\n",
    "\n",
    "# Similarly, I'll convert the 'date' column from object Dtype to datetime Dtype for me to work with it easier \n",
    "seattleCalendar['date'] = pd.to_datetime(seattleCalendar['date'])\n",
    "\n",
    "# Dropping columns that I'll not need for this particular question I'm answering\n",
    "seattleCalendarAvail = seattleCalendar.drop(['listing_id', 'price'], axis=1)\n",
    "seattleCalendarAvail.head()"
   ]
  },
  {
   "cell_type": "code",
   "execution_count": 5,
   "id": "02516944",
   "metadata": {
    "execution": {
     "iopub.execute_input": "2022-06-06T14:19:31.871936Z",
     "iopub.status.busy": "2022-06-06T14:19:31.871579Z",
     "iopub.status.idle": "2022-06-06T14:19:39.757725Z",
     "shell.execute_reply": "2022-06-06T14:19:39.756926Z"
    },
    "papermill": {
     "duration": 7.904146,
     "end_time": "2022-06-06T14:19:39.760215",
     "exception": false,
     "start_time": "2022-06-06T14:19:31.856069",
     "status": "completed"
    },
    "tags": []
   },
   "outputs": [],
   "source": [
    "# Adding 'month' and 'year' columns by extracting it from the 'date' column\n",
    "seattleCalendarAvail['month'] = [i.month for i in seattleCalendarAvail['date']]\n",
    "seattleCalendarAvail['year'] = [i.year for i in seattleCalendarAvail['date']]"
   ]
  },
  {
   "cell_type": "code",
   "execution_count": 6,
   "id": "c7adff8b",
   "metadata": {
    "execution": {
     "iopub.execute_input": "2022-06-06T14:19:39.790996Z",
     "iopub.status.busy": "2022-06-06T14:19:39.790620Z",
     "iopub.status.idle": "2022-06-06T14:19:39.799789Z",
     "shell.execute_reply": "2022-06-06T14:19:39.799196Z"
    },
    "papermill": {
     "duration": 0.027193,
     "end_time": "2022-06-06T14:19:39.801738",
     "exception": false,
     "start_time": "2022-06-06T14:19:39.774545",
     "status": "completed"
    },
    "tags": []
   },
   "outputs": [
    {
     "data": {
      "text/html": [
       "<div>\n",
       "<style scoped>\n",
       "    .dataframe tbody tr th:only-of-type {\n",
       "        vertical-align: middle;\n",
       "    }\n",
       "\n",
       "    .dataframe tbody tr th {\n",
       "        vertical-align: top;\n",
       "    }\n",
       "\n",
       "    .dataframe thead th {\n",
       "        text-align: right;\n",
       "    }\n",
       "</style>\n",
       "<table border=\"1\" class=\"dataframe\">\n",
       "  <thead>\n",
       "    <tr style=\"text-align: right;\">\n",
       "      <th></th>\n",
       "      <th>date</th>\n",
       "      <th>available</th>\n",
       "      <th>month</th>\n",
       "      <th>year</th>\n",
       "    </tr>\n",
       "  </thead>\n",
       "  <tbody>\n",
       "    <tr>\n",
       "      <th>0</th>\n",
       "      <td>2016-01-04</td>\n",
       "      <td>1</td>\n",
       "      <td>1</td>\n",
       "      <td>2016</td>\n",
       "    </tr>\n",
       "    <tr>\n",
       "      <th>1</th>\n",
       "      <td>2016-01-05</td>\n",
       "      <td>1</td>\n",
       "      <td>1</td>\n",
       "      <td>2016</td>\n",
       "    </tr>\n",
       "    <tr>\n",
       "      <th>2</th>\n",
       "      <td>2016-01-06</td>\n",
       "      <td>0</td>\n",
       "      <td>1</td>\n",
       "      <td>2016</td>\n",
       "    </tr>\n",
       "    <tr>\n",
       "      <th>3</th>\n",
       "      <td>2016-01-07</td>\n",
       "      <td>0</td>\n",
       "      <td>1</td>\n",
       "      <td>2016</td>\n",
       "    </tr>\n",
       "    <tr>\n",
       "      <th>4</th>\n",
       "      <td>2016-01-08</td>\n",
       "      <td>0</td>\n",
       "      <td>1</td>\n",
       "      <td>2016</td>\n",
       "    </tr>\n",
       "  </tbody>\n",
       "</table>\n",
       "</div>"
      ],
      "text/plain": [
       "        date  available  month  year\n",
       "0 2016-01-04          1      1  2016\n",
       "1 2016-01-05          1      1  2016\n",
       "2 2016-01-06          0      1  2016\n",
       "3 2016-01-07          0      1  2016\n",
       "4 2016-01-08          0      1  2016"
      ]
     },
     "execution_count": 6,
     "metadata": {},
     "output_type": "execute_result"
    }
   ],
   "source": [
    "seattleCalendarAvail.head()"
   ]
  },
  {
   "cell_type": "code",
   "execution_count": 7,
   "id": "f500539d",
   "metadata": {
    "execution": {
     "iopub.execute_input": "2022-06-06T14:19:39.832229Z",
     "iopub.status.busy": "2022-06-06T14:19:39.831699Z",
     "iopub.status.idle": "2022-06-06T14:19:39.955635Z",
     "shell.execute_reply": "2022-06-06T14:19:39.954376Z"
    },
    "papermill": {
     "duration": 0.141469,
     "end_time": "2022-06-06T14:19:39.957726",
     "exception": false,
     "start_time": "2022-06-06T14:19:39.816257",
     "status": "completed"
    },
    "tags": []
   },
   "outputs": [
    {
     "data": {
      "text/html": [
       "<div>\n",
       "<style scoped>\n",
       "    .dataframe tbody tr th:only-of-type {\n",
       "        vertical-align: middle;\n",
       "    }\n",
       "\n",
       "    .dataframe tbody tr th {\n",
       "        vertical-align: top;\n",
       "    }\n",
       "\n",
       "    .dataframe thead th {\n",
       "        text-align: right;\n",
       "    }\n",
       "</style>\n",
       "<table border=\"1\" class=\"dataframe\">\n",
       "  <thead>\n",
       "    <tr style=\"text-align: right;\">\n",
       "      <th></th>\n",
       "      <th></th>\n",
       "      <th>available</th>\n",
       "    </tr>\n",
       "    <tr>\n",
       "      <th>month</th>\n",
       "      <th>year</th>\n",
       "      <th></th>\n",
       "    </tr>\n",
       "  </thead>\n",
       "  <tbody>\n",
       "    <tr>\n",
       "      <th rowspan=\"2\" valign=\"top\">1</th>\n",
       "      <th>2016</th>\n",
       "      <td>0.554133</td>\n",
       "    </tr>\n",
       "    <tr>\n",
       "      <th>2017</th>\n",
       "      <td>0.746202</td>\n",
       "    </tr>\n",
       "    <tr>\n",
       "      <th>2</th>\n",
       "      <th>2016</th>\n",
       "      <td>0.662208</td>\n",
       "    </tr>\n",
       "    <tr>\n",
       "      <th>3</th>\n",
       "      <th>2016</th>\n",
       "      <td>0.709187</td>\n",
       "    </tr>\n",
       "    <tr>\n",
       "      <th>4</th>\n",
       "      <th>2016</th>\n",
       "      <td>0.663847</td>\n",
       "    </tr>\n",
       "  </tbody>\n",
       "</table>\n",
       "</div>"
      ],
      "text/plain": [
       "            available\n",
       "month year           \n",
       "1     2016   0.554133\n",
       "      2017   0.746202\n",
       "2     2016   0.662208\n",
       "3     2016   0.709187\n",
       "4     2016   0.663847"
      ]
     },
     "execution_count": 7,
     "metadata": {},
     "output_type": "execute_result"
    }
   ],
   "source": [
    "# Grouping the average of the 'available' column by month and year\n",
    "# For the 'available' column, an average closer to 1 indicates higher availability (less popular) and vice versa\n",
    "seattleCalendarAvail = seattleCalendarAvail.groupby(['month', 'year']).mean()\n",
    "seattleCalendarAvail.head()"
   ]
  },
  {
   "cell_type": "code",
   "execution_count": 8,
   "id": "e3c45aba",
   "metadata": {
    "execution": {
     "iopub.execute_input": "2022-06-06T14:19:39.987615Z",
     "iopub.status.busy": "2022-06-06T14:19:39.987252Z",
     "iopub.status.idle": "2022-06-06T14:19:40.009602Z",
     "shell.execute_reply": "2022-06-06T14:19:40.008756Z"
    },
    "papermill": {
     "duration": 0.039709,
     "end_time": "2022-06-06T14:19:40.011925",
     "exception": false,
     "start_time": "2022-06-06T14:19:39.972216",
     "status": "completed"
    },
    "tags": []
   },
   "outputs": [
    {
     "data": {
      "text/html": [
       "<div>\n",
       "<style scoped>\n",
       "    .dataframe tbody tr th:only-of-type {\n",
       "        vertical-align: middle;\n",
       "    }\n",
       "\n",
       "    .dataframe tbody tr th {\n",
       "        vertical-align: top;\n",
       "    }\n",
       "\n",
       "    .dataframe thead tr th {\n",
       "        text-align: left;\n",
       "    }\n",
       "\n",
       "    .dataframe thead tr:last-of-type th {\n",
       "        text-align: right;\n",
       "    }\n",
       "</style>\n",
       "<table border=\"1\" class=\"dataframe\">\n",
       "  <thead>\n",
       "    <tr>\n",
       "      <th></th>\n",
       "      <th colspan=\"12\" halign=\"left\">available</th>\n",
       "    </tr>\n",
       "    <tr>\n",
       "      <th>month</th>\n",
       "      <th>1</th>\n",
       "      <th>2</th>\n",
       "      <th>3</th>\n",
       "      <th>4</th>\n",
       "      <th>5</th>\n",
       "      <th>6</th>\n",
       "      <th>7</th>\n",
       "      <th>8</th>\n",
       "      <th>9</th>\n",
       "      <th>10</th>\n",
       "      <th>11</th>\n",
       "      <th>12</th>\n",
       "    </tr>\n",
       "    <tr>\n",
       "      <th>year</th>\n",
       "      <th></th>\n",
       "      <th></th>\n",
       "      <th></th>\n",
       "      <th></th>\n",
       "      <th></th>\n",
       "      <th></th>\n",
       "      <th></th>\n",
       "      <th></th>\n",
       "      <th></th>\n",
       "      <th></th>\n",
       "      <th></th>\n",
       "      <th></th>\n",
       "    </tr>\n",
       "  </thead>\n",
       "  <tbody>\n",
       "    <tr>\n",
       "      <th>2016</th>\n",
       "      <td>0.554133</td>\n",
       "      <td>0.662208</td>\n",
       "      <td>0.709187</td>\n",
       "      <td>0.663847</td>\n",
       "      <td>0.67567</td>\n",
       "      <td>0.674384</td>\n",
       "      <td>0.627097</td>\n",
       "      <td>0.645051</td>\n",
       "      <td>0.674402</td>\n",
       "      <td>0.696514</td>\n",
       "      <td>0.713986</td>\n",
       "      <td>0.735573</td>\n",
       "    </tr>\n",
       "    <tr>\n",
       "      <th>2017</th>\n",
       "      <td>0.746202</td>\n",
       "      <td>NaN</td>\n",
       "      <td>NaN</td>\n",
       "      <td>NaN</td>\n",
       "      <td>NaN</td>\n",
       "      <td>NaN</td>\n",
       "      <td>NaN</td>\n",
       "      <td>NaN</td>\n",
       "      <td>NaN</td>\n",
       "      <td>NaN</td>\n",
       "      <td>NaN</td>\n",
       "      <td>NaN</td>\n",
       "    </tr>\n",
       "  </tbody>\n",
       "</table>\n",
       "</div>"
      ],
      "text/plain": [
       "      available                                                             \\\n",
       "month        1         2         3         4        5         6         7    \n",
       "year                                                                         \n",
       "2016   0.554133  0.662208  0.709187  0.663847  0.67567  0.674384  0.627097   \n",
       "2017   0.746202       NaN       NaN       NaN      NaN       NaN       NaN   \n",
       "\n",
       "                                                         \n",
       "month        8         9         10        11        12  \n",
       "year                                                     \n",
       "2016   0.645051  0.674402  0.696514  0.713986  0.735573  \n",
       "2017        NaN       NaN       NaN       NaN       NaN  "
      ]
     },
     "execution_count": 8,
     "metadata": {},
     "output_type": "execute_result"
    }
   ],
   "source": [
    "# Unstacking the 'month' column\n",
    "seattleCalendarAvail = seattleCalendarAvail.unstack(level=0)\n",
    "seattleCalendarAvail.head()"
   ]
  },
  {
   "cell_type": "code",
   "execution_count": 9,
   "id": "3ecb9cac",
   "metadata": {
    "execution": {
     "iopub.execute_input": "2022-06-06T14:19:40.043104Z",
     "iopub.status.busy": "2022-06-06T14:19:40.042431Z",
     "iopub.status.idle": "2022-06-06T14:19:40.470906Z",
     "shell.execute_reply": "2022-06-06T14:19:40.469759Z"
    },
    "papermill": {
     "duration": 0.447331,
     "end_time": "2022-06-06T14:19:40.473862",
     "exception": false,
     "start_time": "2022-06-06T14:19:40.026531",
     "status": "completed"
    },
    "tags": []
   },
   "outputs": [
    {
     "data": {
      "image/png": "[encoded data removed]",
      "text/plain": [
       "<Figure size 792x648 with 2 Axes>"
      ]
     },
     "metadata": {
      "needs_background": "light"
     },
     "output_type": "display_data"
    }
   ],
   "source": [
    "# Using seaborn heatmap for visualization of availability during the different months\n",
    "fig, ax = plt.subplots(figsize=(11, 9))\n",
    "\n",
    "sb.heatmap(seattleCalendarAvail, cmap=\"Blues\", vmin= 0.5, vmax=0.8,\n",
    "           linewidth=0.3, cbar_kws={\"shrink\": .8})\n",
    "\n",
    "ax.xaxis.tick_top()\n",
    "xticks_labels = ['Jan', 'Feb', 'Mar', 'Apr', 'May', 'Jun',\n",
    "                'Jul', 'Aug', 'Sep', 'Oct', 'Nov', 'Dec']\n",
    "plt.xticks(np.arange(12) + .5, labels=xticks_labels)\n",
    "\n",
    "plt.xlabel('')\n",
    "plt.ylabel('')\n",
    "\n",
    "title = 'Availability of Airbnb Homes in Seattle\\n'.upper()\n",
    "plt.title(title, loc='center')\n",
    "\n",
    "plt.show()"
   ]
  },
  {
   "cell_type": "markdown",
   "id": "442e7d45",
   "metadata": {
    "papermill": {
     "duration": 0.01298,
     "end_time": "2022-06-06T14:19:40.502372",
     "exception": false,
     "start_time": "2022-06-06T14:19:40.489392",
     "status": "completed"
    },
    "tags": []
   },
   "source": [
    "#### Results\n",
    "From the heatmap, it can be observed that Jan was the busiest month in 2016 with an average availability of only **0.55**. Jul and Aug are the next 2 busiest months in 2016.\n",
    "\n",
    "What is interesting is that in 2017, Jan appears to be significantly less busy, with an average availability of **0.75**. The reason for this could be incomplete data or perhaps uncommon events that caused Jan 2016 to be busier than Jan 2017 for Airbnbs in July. We will need a larger and complete dataset to be certain about this discrepancy."
   ]
  },
  {
   "cell_type": "markdown",
   "id": "662e25f1",
   "metadata": {
    "papermill": {
     "duration": 0.013096,
     "end_time": "2022-06-06T14:19:40.528874",
     "exception": false,
     "start_time": "2022-06-06T14:19:40.515778",
     "status": "completed"
    },
    "tags": []
   },
   "source": [
    "#### 2. How much do prices increase for the busiest months in the year for Airbnbs in Seattle?"
   ]
  },
  {
   "cell_type": "code",
   "execution_count": 10,
   "id": "8f395756",
   "metadata": {
    "execution": {
     "iopub.execute_input": "2022-06-06T14:19:40.557176Z",
     "iopub.status.busy": "2022-06-06T14:19:40.556228Z",
     "iopub.status.idle": "2022-06-06T14:19:40.566371Z",
     "shell.execute_reply": "2022-06-06T14:19:40.565745Z"
    },
    "papermill": {
     "duration": 0.026089,
     "end_time": "2022-06-06T14:19:40.568015",
     "exception": false,
     "start_time": "2022-06-06T14:19:40.541926",
     "status": "completed"
    },
    "tags": []
   },
   "outputs": [
    {
     "data": {
      "text/html": [
       "<div>\n",
       "<style scoped>\n",
       "    .dataframe tbody tr th:only-of-type {\n",
       "        vertical-align: middle;\n",
       "    }\n",
       "\n",
       "    .dataframe tbody tr th {\n",
       "        vertical-align: top;\n",
       "    }\n",
       "\n",
       "    .dataframe thead th {\n",
       "        text-align: right;\n",
       "    }\n",
       "</style>\n",
       "<table border=\"1\" class=\"dataframe\">\n",
       "  <thead>\n",
       "    <tr style=\"text-align: right;\">\n",
       "      <th></th>\n",
       "      <th>listing_id</th>\n",
       "      <th>date</th>\n",
       "      <th>available</th>\n",
       "      <th>price</th>\n",
       "    </tr>\n",
       "  </thead>\n",
       "  <tbody>\n",
       "    <tr>\n",
       "      <th>0</th>\n",
       "      <td>241032</td>\n",
       "      <td>2016-01-04</td>\n",
       "      <td>1</td>\n",
       "      <td>$85.00</td>\n",
       "    </tr>\n",
       "    <tr>\n",
       "      <th>1</th>\n",
       "      <td>241032</td>\n",
       "      <td>2016-01-05</td>\n",
       "      <td>1</td>\n",
       "      <td>$85.00</td>\n",
       "    </tr>\n",
       "    <tr>\n",
       "      <th>2</th>\n",
       "      <td>241032</td>\n",
       "      <td>2016-01-06</td>\n",
       "      <td>0</td>\n",
       "      <td>NaN</td>\n",
       "    </tr>\n",
       "    <tr>\n",
       "      <th>3</th>\n",
       "      <td>241032</td>\n",
       "      <td>2016-01-07</td>\n",
       "      <td>0</td>\n",
       "      <td>NaN</td>\n",
       "    </tr>\n",
       "    <tr>\n",
       "      <th>4</th>\n",
       "      <td>241032</td>\n",
       "      <td>2016-01-08</td>\n",
       "      <td>0</td>\n",
       "      <td>NaN</td>\n",
       "    </tr>\n",
       "  </tbody>\n",
       "</table>\n",
       "</div>"
      ],
      "text/plain": [
       "   listing_id       date  available   price\n",
       "0      241032 2016-01-04          1  $85.00\n",
       "1      241032 2016-01-05          1  $85.00\n",
       "2      241032 2016-01-06          0     NaN\n",
       "3      241032 2016-01-07          0     NaN\n",
       "4      241032 2016-01-08          0     NaN"
      ]
     },
     "execution_count": 10,
     "metadata": {},
     "output_type": "execute_result"
    }
   ],
   "source": [
    "seattleCalendar.head()"
   ]
  },
  {
   "cell_type": "code",
   "execution_count": 11,
   "id": "79ba37cd",
   "metadata": {
    "execution": {
     "iopub.execute_input": "2022-06-06T14:19:40.598885Z",
     "iopub.status.busy": "2022-06-06T14:19:40.598407Z",
     "iopub.status.idle": "2022-06-06T14:19:40.723283Z",
     "shell.execute_reply": "2022-06-06T14:19:40.722449Z"
    },
    "papermill": {
     "duration": 0.143144,
     "end_time": "2022-06-06T14:19:40.725534",
     "exception": false,
     "start_time": "2022-06-06T14:19:40.582390",
     "status": "completed"
    },
    "tags": []
   },
   "outputs": [
    {
     "name": "stdout",
     "output_type": "stream",
     "text": [
      "#Nan in listing_id = 0, #Nan in date = 0, #Nan in available = 0, #Nan in price = 459028\n"
     ]
    }
   ],
   "source": [
    "# Checking for NaN values in each of the columns\n",
    "a = seattleCalendar['listing_id'].isna().sum()\n",
    "b = seattleCalendar['date'].isna().sum()\n",
    "c = seattleCalendar['available'].isna().sum()\n",
    "d = seattleCalendar['price'].isna().sum()\n",
    "\n",
    "print('#Nan in listing_id = {}, #Nan in date = {}, #Nan in available = {}, #Nan in price = {}'.format(a, b, c, d))"
   ]
  },
  {
   "cell_type": "code",
   "execution_count": 12,
   "id": "482c67d4",
   "metadata": {
    "execution": {
     "iopub.execute_input": "2022-06-06T14:19:40.754022Z",
     "iopub.status.busy": "2022-06-06T14:19:40.753430Z",
     "iopub.status.idle": "2022-06-06T14:19:40.758852Z",
     "shell.execute_reply": "2022-06-06T14:19:40.758055Z"
    },
    "papermill": {
     "duration": 0.02207,
     "end_time": "2022-06-06T14:19:40.760688",
     "exception": false,
     "start_time": "2022-06-06T14:19:40.738618",
     "status": "completed"
    },
    "tags": []
   },
   "outputs": [
    {
     "name": "stdout",
     "output_type": "stream",
     "text": [
      "Percentage of Nan values in 'price' columne is 32.94%\n"
     ]
    }
   ],
   "source": [
    "print(\"Percentage of Nan values in 'price' columne is \" + str(round(d/seattleCalendar.shape[0]*100,2)) + '%')"
   ]
  },
  {
   "cell_type": "code",
   "execution_count": 13,
   "id": "d80679ca",
   "metadata": {
    "execution": {
     "iopub.execute_input": "2022-06-06T14:19:40.791963Z",
     "iopub.status.busy": "2022-06-06T14:19:40.791263Z",
     "iopub.status.idle": "2022-06-06T14:19:40.980430Z",
     "shell.execute_reply": "2022-06-06T14:19:40.979420Z"
    },
    "papermill": {
     "duration": 0.20805,
     "end_time": "2022-06-06T14:19:40.983234",
     "exception": false,
     "start_time": "2022-06-06T14:19:40.775184",
     "status": "completed"
    },
    "tags": []
   },
   "outputs": [],
   "source": [
    "# Dropping rows with NaN values in 'price' column as it is essential for answering this question\n",
    "seattleCalendarPrice = seattleCalendar.dropna(subset=['price'])"
   ]
  },
  {
   "cell_type": "code",
   "execution_count": 14,
   "id": "0aed0802",
   "metadata": {
    "execution": {
     "iopub.execute_input": "2022-06-06T14:19:41.019761Z",
     "iopub.status.busy": "2022-06-06T14:19:41.019005Z",
     "iopub.status.idle": "2022-06-06T14:19:46.297696Z",
     "shell.execute_reply": "2022-06-06T14:19:46.296774Z"
    },
    "papermill": {
     "duration": 5.29828,
     "end_time": "2022-06-06T14:19:46.300908",
     "exception": false,
     "start_time": "2022-06-06T14:19:41.002628",
     "status": "completed"
    },
    "tags": []
   },
   "outputs": [
    {
     "name": "stderr",
     "output_type": "stream",
     "text": [
      "/opt/conda/lib/python3.7/site-packages/ipykernel_launcher.py:1: SettingWithCopyWarning: \n",
      "A value is trying to be set on a copy of a slice from a DataFrame.\n",
      "Try using .loc[row_indexer,col_indexer] = value instead\n",
      "\n",
      "See the caveats in the documentation: https://pandas.pydata.org/pandas-docs/stable/user_guide/indexing.html#returning-a-view-versus-a-copy\n",
      "  \"\"\"Entry point for launching an IPython kernel.\n",
      "/opt/conda/lib/python3.7/site-packages/ipykernel_launcher.py:2: SettingWithCopyWarning: \n",
      "A value is trying to be set on a copy of a slice from a DataFrame.\n",
      "Try using .loc[row_indexer,col_indexer] = value instead\n",
      "\n",
      "See the caveats in the documentation: https://pandas.pydata.org/pandas-docs/stable/user_guide/indexing.html#returning-a-view-versus-a-copy\n",
      "  \n"
     ]
    },
    {
     "data": {
      "text/html": [
       "<div>\n",
       "<style scoped>\n",
       "    .dataframe tbody tr th:only-of-type {\n",
       "        vertical-align: middle;\n",
       "    }\n",
       "\n",
       "    .dataframe tbody tr th {\n",
       "        vertical-align: top;\n",
       "    }\n",
       "\n",
       "    .dataframe thead th {\n",
       "        text-align: right;\n",
       "    }\n",
       "</style>\n",
       "<table border=\"1\" class=\"dataframe\">\n",
       "  <thead>\n",
       "    <tr style=\"text-align: right;\">\n",
       "      <th></th>\n",
       "      <th>listing_id</th>\n",
       "      <th>date</th>\n",
       "      <th>available</th>\n",
       "      <th>price</th>\n",
       "      <th>month</th>\n",
       "      <th>year</th>\n",
       "    </tr>\n",
       "  </thead>\n",
       "  <tbody>\n",
       "    <tr>\n",
       "      <th>0</th>\n",
       "      <td>241032</td>\n",
       "      <td>2016-01-04</td>\n",
       "      <td>1</td>\n",
       "      <td>$85.00</td>\n",
       "      <td>1</td>\n",
       "      <td>2016</td>\n",
       "    </tr>\n",
       "    <tr>\n",
       "      <th>1</th>\n",
       "      <td>241032</td>\n",
       "      <td>2016-01-05</td>\n",
       "      <td>1</td>\n",
       "      <td>$85.00</td>\n",
       "      <td>1</td>\n",
       "      <td>2016</td>\n",
       "    </tr>\n",
       "    <tr>\n",
       "      <th>9</th>\n",
       "      <td>241032</td>\n",
       "      <td>2016-01-13</td>\n",
       "      <td>1</td>\n",
       "      <td>$85.00</td>\n",
       "      <td>1</td>\n",
       "      <td>2016</td>\n",
       "    </tr>\n",
       "    <tr>\n",
       "      <th>10</th>\n",
       "      <td>241032</td>\n",
       "      <td>2016-01-14</td>\n",
       "      <td>1</td>\n",
       "      <td>$85.00</td>\n",
       "      <td>1</td>\n",
       "      <td>2016</td>\n",
       "    </tr>\n",
       "    <tr>\n",
       "      <th>14</th>\n",
       "      <td>241032</td>\n",
       "      <td>2016-01-18</td>\n",
       "      <td>1</td>\n",
       "      <td>$85.00</td>\n",
       "      <td>1</td>\n",
       "      <td>2016</td>\n",
       "    </tr>\n",
       "  </tbody>\n",
       "</table>\n",
       "</div>"
      ],
      "text/plain": [
       "    listing_id       date  available   price  month  year\n",
       "0       241032 2016-01-04          1  $85.00      1  2016\n",
       "1       241032 2016-01-05          1  $85.00      1  2016\n",
       "9       241032 2016-01-13          1  $85.00      1  2016\n",
       "10      241032 2016-01-14          1  $85.00      1  2016\n",
       "14      241032 2016-01-18          1  $85.00      1  2016"
      ]
     },
     "execution_count": 14,
     "metadata": {},
     "output_type": "execute_result"
    }
   ],
   "source": [
    "seattleCalendarPrice['month'] = [i.month for i in seattleCalendarPrice['date']]\n",
    "seattleCalendarPrice['year'] = [i.year for i in seattleCalendarPrice['date']]\n",
    "seattleCalendarPrice.head()"
   ]
  },
  {
   "cell_type": "code",
   "execution_count": 15,
   "id": "8a63426b",
   "metadata": {
    "execution": {
     "iopub.execute_input": "2022-06-06T14:19:46.334636Z",
     "iopub.status.busy": "2022-06-06T14:19:46.334259Z",
     "iopub.status.idle": "2022-06-06T14:19:47.666947Z",
     "shell.execute_reply": "2022-06-06T14:19:47.666180Z"
    },
    "papermill": {
     "duration": 1.352425,
     "end_time": "2022-06-06T14:19:47.669998",
     "exception": false,
     "start_time": "2022-06-06T14:19:46.317573",
     "status": "completed"
    },
    "tags": []
   },
   "outputs": [
    {
     "name": "stderr",
     "output_type": "stream",
     "text": [
      "/opt/conda/lib/python3.7/site-packages/ipykernel_launcher.py:2: FutureWarning: The default value of regex will change from True to False in a future version. In addition, single character regular expressions will *not* be treated as literal strings when regex=True.\n",
      "  \n",
      "/opt/conda/lib/python3.7/site-packages/ipykernel_launcher.py:2: SettingWithCopyWarning: \n",
      "A value is trying to be set on a copy of a slice from a DataFrame.\n",
      "Try using .loc[row_indexer,col_indexer] = value instead\n",
      "\n",
      "See the caveats in the documentation: https://pandas.pydata.org/pandas-docs/stable/user_guide/indexing.html#returning-a-view-versus-a-copy\n",
      "  \n",
      "/opt/conda/lib/python3.7/site-packages/ipykernel_launcher.py:3: SettingWithCopyWarning: \n",
      "A value is trying to be set on a copy of a slice from a DataFrame.\n",
      "Try using .loc[row_indexer,col_indexer] = value instead\n",
      "\n",
      "See the caveats in the documentation: https://pandas.pydata.org/pandas-docs/stable/user_guide/indexing.html#returning-a-view-versus-a-copy\n",
      "  This is separate from the ipykernel package so we can avoid doing imports until\n",
      "/opt/conda/lib/python3.7/site-packages/ipykernel_launcher.py:4: SettingWithCopyWarning: \n",
      "A value is trying to be set on a copy of a slice from a DataFrame.\n",
      "Try using .loc[row_indexer,col_indexer] = value instead\n",
      "\n",
      "See the caveats in the documentation: https://pandas.pydata.org/pandas-docs/stable/user_guide/indexing.html#returning-a-view-versus-a-copy\n",
      "  after removing the cwd from sys.path.\n"
     ]
    }
   ],
   "source": [
    "# Removing symbols '$' and ',' so that I can work with the 'price' column\n",
    "seattleCalendarPrice['price'] = seattleCalendarPrice['price'].str.replace('$', '')\n",
    "seattleCalendarPrice['price'] = seattleCalendarPrice['price'].str.replace(',', '')\n",
    "seattleCalendarPrice['price'] = seattleCalendarPrice['price'].astype(float)"
   ]
  },
  {
   "cell_type": "code",
   "execution_count": 16,
   "id": "ce2ed9e7",
   "metadata": {
    "execution": {
     "iopub.execute_input": "2022-06-06T14:19:47.703251Z",
     "iopub.status.busy": "2022-06-06T14:19:47.702906Z",
     "iopub.status.idle": "2022-06-06T14:19:47.723490Z",
     "shell.execute_reply": "2022-06-06T14:19:47.722154Z"
    },
    "papermill": {
     "duration": 0.038672,
     "end_time": "2022-06-06T14:19:47.725465",
     "exception": false,
     "start_time": "2022-06-06T14:19:47.686793",
     "status": "completed"
    },
    "tags": []
   },
   "outputs": [
    {
     "name": "stdout",
     "output_type": "stream",
     "text": [
      "<class 'pandas.core.frame.DataFrame'>\n",
      "Int64Index: 934542 entries, 0 to 1393213\n",
      "Data columns (total 6 columns):\n",
      " #   Column      Non-Null Count   Dtype         \n",
      "---  ------      --------------   -----         \n",
      " 0   listing_id  934542 non-null  int64         \n",
      " 1   date        934542 non-null  datetime64[ns]\n",
      " 2   available   934542 non-null  int64         \n",
      " 3   price       934542 non-null  float64       \n",
      " 4   month       934542 non-null  int64         \n",
      " 5   year        934542 non-null  int64         \n",
      "dtypes: datetime64[ns](1), float64(1), int64(4)\n",
      "memory usage: 49.9 MB\n"
     ]
    }
   ],
   "source": [
    "seattleCalendarPrice.info()"
   ]
  },
  {
   "cell_type": "code",
   "execution_count": 17,
   "id": "f3aea482",
   "metadata": {
    "execution": {
     "iopub.execute_input": "2022-06-06T14:19:47.756282Z",
     "iopub.status.busy": "2022-06-06T14:19:47.755931Z",
     "iopub.status.idle": "2022-06-06T14:19:47.796495Z",
     "shell.execute_reply": "2022-06-06T14:19:47.795580Z"
    },
    "papermill": {
     "duration": 0.058679,
     "end_time": "2022-06-06T14:19:47.799241",
     "exception": false,
     "start_time": "2022-06-06T14:19:47.740562",
     "status": "completed"
    },
    "tags": []
   },
   "outputs": [],
   "source": [
    "# Dropping unnecessary columns\n",
    "seattleCalendarPrice = seattleCalendarPrice.drop(['listing_id', 'available'], axis=1)"
   ]
  },
  {
   "cell_type": "code",
   "execution_count": 18,
   "id": "920eac3e",
   "metadata": {
    "execution": {
     "iopub.execute_input": "2022-06-06T14:19:47.833405Z",
     "iopub.status.busy": "2022-06-06T14:19:47.833012Z",
     "iopub.status.idle": "2022-06-06T14:19:47.843924Z",
     "shell.execute_reply": "2022-06-06T14:19:47.843095Z"
    },
    "papermill": {
     "duration": 0.030535,
     "end_time": "2022-06-06T14:19:47.846008",
     "exception": false,
     "start_time": "2022-06-06T14:19:47.815473",
     "status": "completed"
    },
    "tags": []
   },
   "outputs": [
    {
     "data": {
      "text/html": [
       "<div>\n",
       "<style scoped>\n",
       "    .dataframe tbody tr th:only-of-type {\n",
       "        vertical-align: middle;\n",
       "    }\n",
       "\n",
       "    .dataframe tbody tr th {\n",
       "        vertical-align: top;\n",
       "    }\n",
       "\n",
       "    .dataframe thead th {\n",
       "        text-align: right;\n",
       "    }\n",
       "</style>\n",
       "<table border=\"1\" class=\"dataframe\">\n",
       "  <thead>\n",
       "    <tr style=\"text-align: right;\">\n",
       "      <th></th>\n",
       "      <th>date</th>\n",
       "      <th>price</th>\n",
       "      <th>month</th>\n",
       "      <th>year</th>\n",
       "    </tr>\n",
       "  </thead>\n",
       "  <tbody>\n",
       "    <tr>\n",
       "      <th>0</th>\n",
       "      <td>2016-01-04</td>\n",
       "      <td>85.0</td>\n",
       "      <td>1</td>\n",
       "      <td>2016</td>\n",
       "    </tr>\n",
       "    <tr>\n",
       "      <th>1</th>\n",
       "      <td>2016-01-05</td>\n",
       "      <td>85.0</td>\n",
       "      <td>1</td>\n",
       "      <td>2016</td>\n",
       "    </tr>\n",
       "    <tr>\n",
       "      <th>9</th>\n",
       "      <td>2016-01-13</td>\n",
       "      <td>85.0</td>\n",
       "      <td>1</td>\n",
       "      <td>2016</td>\n",
       "    </tr>\n",
       "    <tr>\n",
       "      <th>10</th>\n",
       "      <td>2016-01-14</td>\n",
       "      <td>85.0</td>\n",
       "      <td>1</td>\n",
       "      <td>2016</td>\n",
       "    </tr>\n",
       "    <tr>\n",
       "      <th>14</th>\n",
       "      <td>2016-01-18</td>\n",
       "      <td>85.0</td>\n",
       "      <td>1</td>\n",
       "      <td>2016</td>\n",
       "    </tr>\n",
       "  </tbody>\n",
       "</table>\n",
       "</div>"
      ],
      "text/plain": [
       "         date  price  month  year\n",
       "0  2016-01-04   85.0      1  2016\n",
       "1  2016-01-05   85.0      1  2016\n",
       "9  2016-01-13   85.0      1  2016\n",
       "10 2016-01-14   85.0      1  2016\n",
       "14 2016-01-18   85.0      1  2016"
      ]
     },
     "execution_count": 18,
     "metadata": {},
     "output_type": "execute_result"
    }
   ],
   "source": [
    "seattleCalendarPrice.head()"
   ]
  },
  {
   "cell_type": "code",
   "execution_count": 19,
   "id": "2ab1c50d",
   "metadata": {
    "execution": {
     "iopub.execute_input": "2022-06-06T14:19:47.880678Z",
     "iopub.status.busy": "2022-06-06T14:19:47.880306Z",
     "iopub.status.idle": "2022-06-06T14:19:47.959451Z",
     "shell.execute_reply": "2022-06-06T14:19:47.958560Z"
    },
    "papermill": {
     "duration": 0.099007,
     "end_time": "2022-06-06T14:19:47.961672",
     "exception": false,
     "start_time": "2022-06-06T14:19:47.862665",
     "status": "completed"
    },
    "tags": []
   },
   "outputs": [
    {
     "data": {
      "text/html": [
       "<div>\n",
       "<style scoped>\n",
       "    .dataframe tbody tr th:only-of-type {\n",
       "        vertical-align: middle;\n",
       "    }\n",
       "\n",
       "    .dataframe tbody tr th {\n",
       "        vertical-align: top;\n",
       "    }\n",
       "\n",
       "    .dataframe thead th {\n",
       "        text-align: right;\n",
       "    }\n",
       "</style>\n",
       "<table border=\"1\" class=\"dataframe\">\n",
       "  <thead>\n",
       "    <tr style=\"text-align: right;\">\n",
       "      <th></th>\n",
       "      <th></th>\n",
       "      <th>price</th>\n",
       "    </tr>\n",
       "    <tr>\n",
       "      <th>month</th>\n",
       "      <th>year</th>\n",
       "      <th></th>\n",
       "    </tr>\n",
       "  </thead>\n",
       "  <tbody>\n",
       "    <tr>\n",
       "      <th rowspan=\"2\" valign=\"top\">1</th>\n",
       "      <th>2016</th>\n",
       "      <td>121.568409</td>\n",
       "    </tr>\n",
       "    <tr>\n",
       "      <th>2017</th>\n",
       "      <td>136.882590</td>\n",
       "    </tr>\n",
       "    <tr>\n",
       "      <th>2</th>\n",
       "      <th>2016</th>\n",
       "      <td>124.293927</td>\n",
       "    </tr>\n",
       "    <tr>\n",
       "      <th>3</th>\n",
       "      <th>2016</th>\n",
       "      <td>128.644488</td>\n",
       "    </tr>\n",
       "    <tr>\n",
       "      <th>4</th>\n",
       "      <th>2016</th>\n",
       "      <td>135.097005</td>\n",
       "    </tr>\n",
       "  </tbody>\n",
       "</table>\n",
       "</div>"
      ],
      "text/plain": [
       "                 price\n",
       "month year            \n",
       "1     2016  121.568409\n",
       "      2017  136.882590\n",
       "2     2016  124.293927\n",
       "3     2016  128.644488\n",
       "4     2016  135.097005"
      ]
     },
     "execution_count": 19,
     "metadata": {},
     "output_type": "execute_result"
    }
   ],
   "source": [
    "seattleCalendarPrice = seattleCalendarPrice.groupby(['month', 'year']).mean()\n",
    "seattleCalendarPrice.head()"
   ]
  },
  {
   "cell_type": "code",
   "execution_count": 20,
   "id": "b8033484",
   "metadata": {
    "execution": {
     "iopub.execute_input": "2022-06-06T14:19:47.996327Z",
     "iopub.status.busy": "2022-06-06T14:19:47.995775Z",
     "iopub.status.idle": "2022-06-06T14:19:48.017389Z",
     "shell.execute_reply": "2022-06-06T14:19:48.016527Z"
    },
    "papermill": {
     "duration": 0.040742,
     "end_time": "2022-06-06T14:19:48.019381",
     "exception": false,
     "start_time": "2022-06-06T14:19:47.978639",
     "status": "completed"
    },
    "tags": []
   },
   "outputs": [
    {
     "data": {
      "text/html": [
       "<div>\n",
       "<style scoped>\n",
       "    .dataframe tbody tr th:only-of-type {\n",
       "        vertical-align: middle;\n",
       "    }\n",
       "\n",
       "    .dataframe tbody tr th {\n",
       "        vertical-align: top;\n",
       "    }\n",
       "\n",
       "    .dataframe thead tr th {\n",
       "        text-align: left;\n",
       "    }\n",
       "\n",
       "    .dataframe thead tr:last-of-type th {\n",
       "        text-align: right;\n",
       "    }\n",
       "</style>\n",
       "<table border=\"1\" class=\"dataframe\">\n",
       "  <thead>\n",
       "    <tr>\n",
       "      <th></th>\n",
       "      <th colspan=\"12\" halign=\"left\">price</th>\n",
       "    </tr>\n",
       "    <tr>\n",
       "      <th>month</th>\n",
       "      <th>1</th>\n",
       "      <th>2</th>\n",
       "      <th>3</th>\n",
       "      <th>4</th>\n",
       "      <th>5</th>\n",
       "      <th>6</th>\n",
       "      <th>7</th>\n",
       "      <th>8</th>\n",
       "      <th>9</th>\n",
       "      <th>10</th>\n",
       "      <th>11</th>\n",
       "      <th>12</th>\n",
       "    </tr>\n",
       "    <tr>\n",
       "      <th>year</th>\n",
       "      <th></th>\n",
       "      <th></th>\n",
       "      <th></th>\n",
       "      <th></th>\n",
       "      <th></th>\n",
       "      <th></th>\n",
       "      <th></th>\n",
       "      <th></th>\n",
       "      <th></th>\n",
       "      <th></th>\n",
       "      <th></th>\n",
       "      <th></th>\n",
       "    </tr>\n",
       "  </thead>\n",
       "  <tbody>\n",
       "    <tr>\n",
       "      <th>2016</th>\n",
       "      <td>121.568409</td>\n",
       "      <td>124.293927</td>\n",
       "      <td>128.644488</td>\n",
       "      <td>135.097005</td>\n",
       "      <td>139.538183</td>\n",
       "      <td>147.473137</td>\n",
       "      <td>152.09415</td>\n",
       "      <td>150.656594</td>\n",
       "      <td>143.255949</td>\n",
       "      <td>137.031939</td>\n",
       "      <td>135.688738</td>\n",
       "      <td>137.251835</td>\n",
       "    </tr>\n",
       "    <tr>\n",
       "      <th>2017</th>\n",
       "      <td>136.882590</td>\n",
       "      <td>NaN</td>\n",
       "      <td>NaN</td>\n",
       "      <td>NaN</td>\n",
       "      <td>NaN</td>\n",
       "      <td>NaN</td>\n",
       "      <td>NaN</td>\n",
       "      <td>NaN</td>\n",
       "      <td>NaN</td>\n",
       "      <td>NaN</td>\n",
       "      <td>NaN</td>\n",
       "      <td>NaN</td>\n",
       "    </tr>\n",
       "  </tbody>\n",
       "</table>\n",
       "</div>"
      ],
      "text/plain": [
       "            price                                                              \\\n",
       "month          1           2           3           4           5           6    \n",
       "year                                                                            \n",
       "2016   121.568409  124.293927  128.644488  135.097005  139.538183  147.473137   \n",
       "2017   136.882590         NaN         NaN         NaN         NaN         NaN   \n",
       "\n",
       "                                                                              \n",
       "month         7           8           9           10          11          12  \n",
       "year                                                                          \n",
       "2016   152.09415  150.656594  143.255949  137.031939  135.688738  137.251835  \n",
       "2017         NaN         NaN         NaN         NaN         NaN         NaN  "
      ]
     },
     "execution_count": 20,
     "metadata": {},
     "output_type": "execute_result"
    }
   ],
   "source": [
    "seattleCalendarPrice = seattleCalendarPrice.unstack(level=0)\n",
    "seattleCalendarPrice.head()"
   ]
  },
  {
   "cell_type": "code",
   "execution_count": 21,
   "id": "c6513faf",
   "metadata": {
    "execution": {
     "iopub.execute_input": "2022-06-06T14:19:48.054557Z",
     "iopub.status.busy": "2022-06-06T14:19:48.054178Z",
     "iopub.status.idle": "2022-06-06T14:19:48.475259Z",
     "shell.execute_reply": "2022-06-06T14:19:48.474134Z"
    },
    "papermill": {
     "duration": 0.441943,
     "end_time": "2022-06-06T14:19:48.477984",
     "exception": false,
     "start_time": "2022-06-06T14:19:48.036041",
     "status": "completed"
    },
    "tags": []
   },
   "outputs": [
    {
     "data": {
      "image/png": "[encoded data removed]",
      "text/plain": [
       "<Figure size 792x648 with 2 Axes>"
      ]
     },
     "metadata": {
      "needs_background": "light"
     },
     "output_type": "display_data"
    }
   ],
   "source": [
    "fig, ax = plt.subplots(figsize=(11, 9))\n",
    "\n",
    "sb.heatmap(seattleCalendarPrice, cmap=\"Blues\", vmin= 120, vmax=155,\n",
    "           linewidth=0.3, cbar_kws={\"shrink\": .8})\n",
    "\n",
    "ax.xaxis.tick_top()\n",
    "xticks_labels = ['Jan', 'Feb', 'Mar', 'Apr', 'May', 'Jun',\n",
    "                'Jul', 'Aug', 'Sep', 'Oct', 'Nov', 'Dec']\n",
    "plt.xticks(np.arange(12) + .5, labels=xticks_labels)\n",
    "\n",
    "plt.xlabel('')\n",
    "plt.ylabel('')\n",
    "\n",
    "title = 'Price of Airbnb Homes in Seattle\\n'.upper()\n",
    "plt.title(title, loc='center')\n",
    "\n",
    "plt.show()"
   ]
  },
  {
   "cell_type": "markdown",
   "id": "8dcae423",
   "metadata": {
    "papermill": {
     "duration": 0.015723,
     "end_time": "2022-06-06T14:19:48.515054",
     "exception": false,
     "start_time": "2022-06-06T14:19:48.499331",
     "status": "completed"
    },
    "tags": []
   },
   "source": [
    "#### Results\n",
    "From the previous question. we have established that the top 3 busiest months in 2016 are Jan > Jul > Aug, in descending order of \"busyness\".\n",
    "\n",
    "However, it was not the case that Jan 2016 had the highest average price of Airbnb rentals. The highest average cost of Airbnb rentals happened in Jul followed by Aug in 2016. This abonomaly could be because of the NaN values dropped earlier. Let's investigate if majority of the values dropped were from Jan 2016."
   ]
  },
  {
   "cell_type": "code",
   "execution_count": 22,
   "id": "ee30a030",
   "metadata": {
    "execution": {
     "iopub.execute_input": "2022-06-06T14:19:48.549601Z",
     "iopub.status.busy": "2022-06-06T14:19:48.548708Z",
     "iopub.status.idle": "2022-06-06T14:19:51.321991Z",
     "shell.execute_reply": "2022-06-06T14:19:51.320891Z"
    },
    "papermill": {
     "duration": 2.793933,
     "end_time": "2022-06-06T14:19:51.324625",
     "exception": false,
     "start_time": "2022-06-06T14:19:48.530692",
     "status": "completed"
    },
    "tags": []
   },
   "outputs": [
    {
     "name": "stderr",
     "output_type": "stream",
     "text": [
      "/opt/conda/lib/python3.7/site-packages/ipykernel_launcher.py:3: SettingWithCopyWarning: \n",
      "A value is trying to be set on a copy of a slice from a DataFrame.\n",
      "Try using .loc[row_indexer,col_indexer] = value instead\n",
      "\n",
      "See the caveats in the documentation: https://pandas.pydata.org/pandas-docs/stable/user_guide/indexing.html#returning-a-view-versus-a-copy\n",
      "  This is separate from the ipykernel package so we can avoid doing imports until\n",
      "/opt/conda/lib/python3.7/site-packages/ipykernel_launcher.py:4: SettingWithCopyWarning: \n",
      "A value is trying to be set on a copy of a slice from a DataFrame.\n",
      "Try using .loc[row_indexer,col_indexer] = value instead\n",
      "\n",
      "See the caveats in the documentation: https://pandas.pydata.org/pandas-docs/stable/user_guide/indexing.html#returning-a-view-versus-a-copy\n",
      "  after removing the cwd from sys.path.\n"
     ]
    },
    {
     "data": {
      "text/html": [
       "<div>\n",
       "<style scoped>\n",
       "    .dataframe tbody tr th:only-of-type {\n",
       "        vertical-align: middle;\n",
       "    }\n",
       "\n",
       "    .dataframe tbody tr th {\n",
       "        vertical-align: top;\n",
       "    }\n",
       "\n",
       "    .dataframe thead th {\n",
       "        text-align: right;\n",
       "    }\n",
       "</style>\n",
       "<table border=\"1\" class=\"dataframe\">\n",
       "  <thead>\n",
       "    <tr style=\"text-align: right;\">\n",
       "      <th></th>\n",
       "      <th>listing_id</th>\n",
       "      <th>date</th>\n",
       "      <th>available</th>\n",
       "      <th>price</th>\n",
       "      <th>month</th>\n",
       "      <th>year</th>\n",
       "    </tr>\n",
       "  </thead>\n",
       "  <tbody>\n",
       "    <tr>\n",
       "      <th>2</th>\n",
       "      <td>241032</td>\n",
       "      <td>2016-01-06</td>\n",
       "      <td>0</td>\n",
       "      <td>NaN</td>\n",
       "      <td>1</td>\n",
       "      <td>2016</td>\n",
       "    </tr>\n",
       "    <tr>\n",
       "      <th>3</th>\n",
       "      <td>241032</td>\n",
       "      <td>2016-01-07</td>\n",
       "      <td>0</td>\n",
       "      <td>NaN</td>\n",
       "      <td>1</td>\n",
       "      <td>2016</td>\n",
       "    </tr>\n",
       "    <tr>\n",
       "      <th>4</th>\n",
       "      <td>241032</td>\n",
       "      <td>2016-01-08</td>\n",
       "      <td>0</td>\n",
       "      <td>NaN</td>\n",
       "      <td>1</td>\n",
       "      <td>2016</td>\n",
       "    </tr>\n",
       "    <tr>\n",
       "      <th>5</th>\n",
       "      <td>241032</td>\n",
       "      <td>2016-01-09</td>\n",
       "      <td>0</td>\n",
       "      <td>NaN</td>\n",
       "      <td>1</td>\n",
       "      <td>2016</td>\n",
       "    </tr>\n",
       "    <tr>\n",
       "      <th>6</th>\n",
       "      <td>241032</td>\n",
       "      <td>2016-01-10</td>\n",
       "      <td>0</td>\n",
       "      <td>NaN</td>\n",
       "      <td>1</td>\n",
       "      <td>2016</td>\n",
       "    </tr>\n",
       "  </tbody>\n",
       "</table>\n",
       "</div>"
      ],
      "text/plain": [
       "   listing_id       date  available price  month  year\n",
       "2      241032 2016-01-06          0   NaN      1  2016\n",
       "3      241032 2016-01-07          0   NaN      1  2016\n",
       "4      241032 2016-01-08          0   NaN      1  2016\n",
       "5      241032 2016-01-09          0   NaN      1  2016\n",
       "6      241032 2016-01-10          0   NaN      1  2016"
      ]
     },
     "execution_count": 22,
     "metadata": {},
     "output_type": "execute_result"
    }
   ],
   "source": [
    "# Get the rows in which there are NaN values in 'price' column\n",
    "NanPriceDf = seattleCalendar[seattleCalendar['price'].isnull()]\n",
    "NanPriceDf['month'] = [i.month for i in NanPriceDf['date']]\n",
    "NanPriceDf['year'] = [i.year for i in NanPriceDf['date']]\n",
    "NanPriceDf.head()"
   ]
  },
  {
   "cell_type": "code",
   "execution_count": 23,
   "id": "e13e58a8",
   "metadata": {
    "execution": {
     "iopub.execute_input": "2022-06-06T14:19:51.369435Z",
     "iopub.status.busy": "2022-06-06T14:19:51.368402Z",
     "iopub.status.idle": "2022-06-06T14:19:51.380279Z",
     "shell.execute_reply": "2022-06-06T14:19:51.379499Z"
    },
    "papermill": {
     "duration": 0.034532,
     "end_time": "2022-06-06T14:19:51.382207",
     "exception": false,
     "start_time": "2022-06-06T14:19:51.347675",
     "status": "completed"
    },
    "tags": []
   },
   "outputs": [
    {
     "data": {
      "text/plain": [
       "1     49603\n",
       "7     44136\n",
       "8     42011\n",
       "4     38503\n",
       "5     38387\n",
       "2     37401\n",
       "6     37296\n",
       "9     37294\n",
       "10    35920\n",
       "3     34420\n",
       "11    32760\n",
       "12    31297\n",
       "Name: month, dtype: int64"
      ]
     },
     "execution_count": 23,
     "metadata": {},
     "output_type": "execute_result"
    }
   ],
   "source": [
    "NanPriceDf.month.value_counts()"
   ]
  },
  {
   "cell_type": "markdown",
   "id": "f72d89d7",
   "metadata": {
    "papermill": {
     "duration": 0.01714,
     "end_time": "2022-06-06T14:19:51.416840",
     "exception": false,
     "start_time": "2022-06-06T14:19:51.399700",
     "status": "completed"
    },
    "tags": []
   },
   "source": [
    "It doesn't seem to be the case that majority of NaN values was from Jan 2016 and it is thus unlikely that the discrepancy in prices was due to the NaN values in the price column. However, we can try imputing the values using the mean of the price of the Airbnb listing in the month and determine if there is any difference in our conclusion."
   ]
  },
  {
   "cell_type": "code",
   "execution_count": 24,
   "id": "4fd736ea",
   "metadata": {
    "execution": {
     "iopub.execute_input": "2022-06-06T14:19:51.453663Z",
     "iopub.status.busy": "2022-06-06T14:19:51.452857Z",
     "iopub.status.idle": "2022-06-06T14:20:00.826804Z",
     "shell.execute_reply": "2022-06-06T14:20:00.826033Z"
    },
    "papermill": {
     "duration": 9.394504,
     "end_time": "2022-06-06T14:20:00.828792",
     "exception": false,
     "start_time": "2022-06-06T14:19:51.434288",
     "status": "completed"
    },
    "tags": []
   },
   "outputs": [
    {
     "name": "stderr",
     "output_type": "stream",
     "text": [
      "/opt/conda/lib/python3.7/site-packages/ipykernel_launcher.py:4: FutureWarning: The default value of regex will change from True to False in a future version. In addition, single character regular expressions will *not* be treated as literal strings when regex=True.\n",
      "  after removing the cwd from sys.path.\n"
     ]
    },
    {
     "data": {
      "text/html": [
       "<div>\n",
       "<style scoped>\n",
       "    .dataframe tbody tr th:only-of-type {\n",
       "        vertical-align: middle;\n",
       "    }\n",
       "\n",
       "    .dataframe tbody tr th {\n",
       "        vertical-align: top;\n",
       "    }\n",
       "\n",
       "    .dataframe thead th {\n",
       "        text-align: right;\n",
       "    }\n",
       "</style>\n",
       "<table border=\"1\" class=\"dataframe\">\n",
       "  <thead>\n",
       "    <tr style=\"text-align: right;\">\n",
       "      <th></th>\n",
       "      <th>listing_id</th>\n",
       "      <th>date</th>\n",
       "      <th>available</th>\n",
       "      <th>price</th>\n",
       "      <th>month</th>\n",
       "      <th>year</th>\n",
       "    </tr>\n",
       "  </thead>\n",
       "  <tbody>\n",
       "    <tr>\n",
       "      <th>0</th>\n",
       "      <td>241032</td>\n",
       "      <td>2016-01-04</td>\n",
       "      <td>1</td>\n",
       "      <td>85.0</td>\n",
       "      <td>1</td>\n",
       "      <td>2016</td>\n",
       "    </tr>\n",
       "    <tr>\n",
       "      <th>1</th>\n",
       "      <td>241032</td>\n",
       "      <td>2016-01-05</td>\n",
       "      <td>1</td>\n",
       "      <td>85.0</td>\n",
       "      <td>1</td>\n",
       "      <td>2016</td>\n",
       "    </tr>\n",
       "    <tr>\n",
       "      <th>2</th>\n",
       "      <td>241032</td>\n",
       "      <td>2016-01-06</td>\n",
       "      <td>0</td>\n",
       "      <td>NaN</td>\n",
       "      <td>1</td>\n",
       "      <td>2016</td>\n",
       "    </tr>\n",
       "    <tr>\n",
       "      <th>3</th>\n",
       "      <td>241032</td>\n",
       "      <td>2016-01-07</td>\n",
       "      <td>0</td>\n",
       "      <td>NaN</td>\n",
       "      <td>1</td>\n",
       "      <td>2016</td>\n",
       "    </tr>\n",
       "    <tr>\n",
       "      <th>4</th>\n",
       "      <td>241032</td>\n",
       "      <td>2016-01-08</td>\n",
       "      <td>0</td>\n",
       "      <td>NaN</td>\n",
       "      <td>1</td>\n",
       "      <td>2016</td>\n",
       "    </tr>\n",
       "  </tbody>\n",
       "</table>\n",
       "</div>"
      ],
      "text/plain": [
       "   listing_id       date  available  price  month  year\n",
       "0      241032 2016-01-04          1   85.0      1  2016\n",
       "1      241032 2016-01-05          1   85.0      1  2016\n",
       "2      241032 2016-01-06          0    NaN      1  2016\n",
       "3      241032 2016-01-07          0    NaN      1  2016\n",
       "4      241032 2016-01-08          0    NaN      1  2016"
      ]
     },
     "execution_count": 24,
     "metadata": {},
     "output_type": "execute_result"
    }
   ],
   "source": [
    "seattleCalendarPriceV2 = seattleCalendar.copy()\n",
    "seattleCalendarPriceV2['month'] = [i.month for i in seattleCalendarPriceV2['date']]\n",
    "seattleCalendarPriceV2['year'] = [i.year for i in seattleCalendarPriceV2['date']]\n",
    "seattleCalendarPriceV2['price'] = seattleCalendarPriceV2['price'].str.replace('$', '')\n",
    "seattleCalendarPriceV2['price'] = seattleCalendarPriceV2['price'].str.replace(',', '')\n",
    "seattleCalendarPriceV2['price'] = seattleCalendarPriceV2['price'].astype(float)\n",
    "seattleCalendarPriceV2.head()"
   ]
  },
  {
   "cell_type": "code",
   "execution_count": 25,
   "id": "e52e7243",
   "metadata": {
    "execution": {
     "iopub.execute_input": "2022-06-06T14:20:00.866577Z",
     "iopub.status.busy": "2022-06-06T14:20:00.865999Z",
     "iopub.status.idle": "2022-06-06T14:20:01.220566Z",
     "shell.execute_reply": "2022-06-06T14:20:01.219701Z"
    },
    "papermill": {
     "duration": 0.375598,
     "end_time": "2022-06-06T14:20:01.222491",
     "exception": false,
     "start_time": "2022-06-06T14:20:00.846893",
     "status": "completed"
    },
    "tags": []
   },
   "outputs": [
    {
     "data": {
      "text/html": [
       "<div>\n",
       "<style scoped>\n",
       "    .dataframe tbody tr th:only-of-type {\n",
       "        vertical-align: middle;\n",
       "    }\n",
       "\n",
       "    .dataframe tbody tr th {\n",
       "        vertical-align: top;\n",
       "    }\n",
       "\n",
       "    .dataframe thead th {\n",
       "        text-align: right;\n",
       "    }\n",
       "</style>\n",
       "<table border=\"1\" class=\"dataframe\">\n",
       "  <thead>\n",
       "    <tr style=\"text-align: right;\">\n",
       "      <th></th>\n",
       "      <th>listing_id</th>\n",
       "      <th>date</th>\n",
       "      <th>available</th>\n",
       "      <th>price</th>\n",
       "      <th>month</th>\n",
       "      <th>year</th>\n",
       "    </tr>\n",
       "  </thead>\n",
       "  <tbody>\n",
       "    <tr>\n",
       "      <th>0</th>\n",
       "      <td>241032</td>\n",
       "      <td>2016-01-04</td>\n",
       "      <td>1</td>\n",
       "      <td>85.000000</td>\n",
       "      <td>1</td>\n",
       "      <td>2016</td>\n",
       "    </tr>\n",
       "    <tr>\n",
       "      <th>1</th>\n",
       "      <td>241032</td>\n",
       "      <td>2016-01-05</td>\n",
       "      <td>1</td>\n",
       "      <td>85.000000</td>\n",
       "      <td>1</td>\n",
       "      <td>2016</td>\n",
       "    </tr>\n",
       "    <tr>\n",
       "      <th>2</th>\n",
       "      <td>241032</td>\n",
       "      <td>2016-01-06</td>\n",
       "      <td>0</td>\n",
       "      <td>121.568409</td>\n",
       "      <td>1</td>\n",
       "      <td>2016</td>\n",
       "    </tr>\n",
       "    <tr>\n",
       "      <th>3</th>\n",
       "      <td>241032</td>\n",
       "      <td>2016-01-07</td>\n",
       "      <td>0</td>\n",
       "      <td>121.568409</td>\n",
       "      <td>1</td>\n",
       "      <td>2016</td>\n",
       "    </tr>\n",
       "    <tr>\n",
       "      <th>4</th>\n",
       "      <td>241032</td>\n",
       "      <td>2016-01-08</td>\n",
       "      <td>0</td>\n",
       "      <td>121.568409</td>\n",
       "      <td>1</td>\n",
       "      <td>2016</td>\n",
       "    </tr>\n",
       "  </tbody>\n",
       "</table>\n",
       "</div>"
      ],
      "text/plain": [
       "   listing_id       date  available       price  month  year\n",
       "0      241032 2016-01-04          1   85.000000      1  2016\n",
       "1      241032 2016-01-05          1   85.000000      1  2016\n",
       "2      241032 2016-01-06          0  121.568409      1  2016\n",
       "3      241032 2016-01-07          0  121.568409      1  2016\n",
       "4      241032 2016-01-08          0  121.568409      1  2016"
      ]
     },
     "execution_count": 25,
     "metadata": {},
     "output_type": "execute_result"
    }
   ],
   "source": [
    "# We need to come up with a function to fillna by the mean conditional on the month and year\n",
    "def replace_missing_with_conditional_mean(df, condition_cols, cols):\n",
    "    '''\n",
    "    replaces NaN values in an input df with the mean of the subset of the column, conditional \n",
    "    on the values of specified columns\n",
    "    \n",
    "    input:\n",
    "            df: dataframe with NaN values\n",
    "            conditional_cols: columns which values to be conditional on\n",
    "            cols: columns with NaN values to be replaced\n",
    "    output:\n",
    "            new_df: dataframe with NaN values replaced by conditional mean\n",
    "    '''\n",
    "    \n",
    "    s = df.groupby(condition_cols)[cols].transform('mean')\n",
    "    new_df = df.fillna(s)\n",
    "    \n",
    "    return new_df\n",
    "\n",
    "seattleCalendarPriceV2 = replace_missing_with_conditional_mean(seattleCalendarPriceV2, ['month', 'year'], ['price'])\n",
    "seattleCalendarPriceV2.head()"
   ]
  },
  {
   "cell_type": "code",
   "execution_count": 26,
   "id": "63571f39",
   "metadata": {
    "execution": {
     "iopub.execute_input": "2022-06-06T14:20:01.259744Z",
     "iopub.status.busy": "2022-06-06T14:20:01.259384Z",
     "iopub.status.idle": "2022-06-06T14:20:01.413931Z",
     "shell.execute_reply": "2022-06-06T14:20:01.413041Z"
    },
    "papermill": {
     "duration": 0.175783,
     "end_time": "2022-06-06T14:20:01.415919",
     "exception": false,
     "start_time": "2022-06-06T14:20:01.240136",
     "status": "completed"
    },
    "tags": []
   },
   "outputs": [
    {
     "data": {
      "text/html": [
       "<div>\n",
       "<style scoped>\n",
       "    .dataframe tbody tr th:only-of-type {\n",
       "        vertical-align: middle;\n",
       "    }\n",
       "\n",
       "    .dataframe tbody tr th {\n",
       "        vertical-align: top;\n",
       "    }\n",
       "\n",
       "    .dataframe thead tr th {\n",
       "        text-align: left;\n",
       "    }\n",
       "\n",
       "    .dataframe thead tr:last-of-type th {\n",
       "        text-align: right;\n",
       "    }\n",
       "</style>\n",
       "<table border=\"1\" class=\"dataframe\">\n",
       "  <thead>\n",
       "    <tr>\n",
       "      <th></th>\n",
       "      <th colspan=\"12\" halign=\"left\">price</th>\n",
       "    </tr>\n",
       "    <tr>\n",
       "      <th>month</th>\n",
       "      <th>1</th>\n",
       "      <th>2</th>\n",
       "      <th>3</th>\n",
       "      <th>4</th>\n",
       "      <th>5</th>\n",
       "      <th>6</th>\n",
       "      <th>7</th>\n",
       "      <th>8</th>\n",
       "      <th>9</th>\n",
       "      <th>10</th>\n",
       "      <th>11</th>\n",
       "      <th>12</th>\n",
       "    </tr>\n",
       "    <tr>\n",
       "      <th>year</th>\n",
       "      <th></th>\n",
       "      <th></th>\n",
       "      <th></th>\n",
       "      <th></th>\n",
       "      <th></th>\n",
       "      <th></th>\n",
       "      <th></th>\n",
       "      <th></th>\n",
       "      <th></th>\n",
       "      <th></th>\n",
       "      <th></th>\n",
       "      <th></th>\n",
       "    </tr>\n",
       "  </thead>\n",
       "  <tbody>\n",
       "    <tr>\n",
       "      <th>2016</th>\n",
       "      <td>121.568409</td>\n",
       "      <td>124.293927</td>\n",
       "      <td>128.644488</td>\n",
       "      <td>135.097005</td>\n",
       "      <td>139.538183</td>\n",
       "      <td>147.473137</td>\n",
       "      <td>152.09415</td>\n",
       "      <td>150.656594</td>\n",
       "      <td>143.255949</td>\n",
       "      <td>137.031939</td>\n",
       "      <td>135.688738</td>\n",
       "      <td>137.251835</td>\n",
       "    </tr>\n",
       "    <tr>\n",
       "      <th>2017</th>\n",
       "      <td>136.882590</td>\n",
       "      <td>NaN</td>\n",
       "      <td>NaN</td>\n",
       "      <td>NaN</td>\n",
       "      <td>NaN</td>\n",
       "      <td>NaN</td>\n",
       "      <td>NaN</td>\n",
       "      <td>NaN</td>\n",
       "      <td>NaN</td>\n",
       "      <td>NaN</td>\n",
       "      <td>NaN</td>\n",
       "      <td>NaN</td>\n",
       "    </tr>\n",
       "  </tbody>\n",
       "</table>\n",
       "</div>"
      ],
      "text/plain": [
       "            price                                                              \\\n",
       "month          1           2           3           4           5           6    \n",
       "year                                                                            \n",
       "2016   121.568409  124.293927  128.644488  135.097005  139.538183  147.473137   \n",
       "2017   136.882590         NaN         NaN         NaN         NaN         NaN   \n",
       "\n",
       "                                                                              \n",
       "month         7           8           9           10          11          12  \n",
       "year                                                                          \n",
       "2016   152.09415  150.656594  143.255949  137.031939  135.688738  137.251835  \n",
       "2017         NaN         NaN         NaN         NaN         NaN         NaN  "
      ]
     },
     "execution_count": 26,
     "metadata": {},
     "output_type": "execute_result"
    }
   ],
   "source": [
    "seattleCalendarPriceV2 = seattleCalendarPriceV2.drop(['listing_id', 'available'], axis=1)\n",
    "seattleCalendarPriceV2 = seattleCalendarPriceV2.groupby(['month', 'year']).mean()\n",
    "seattleCalendarPriceV2 = seattleCalendarPriceV2.unstack(level=0)\n",
    "seattleCalendarPriceV2.head()"
   ]
  },
  {
   "cell_type": "markdown",
   "id": "a4e4935f",
   "metadata": {
    "papermill": {
     "duration": 0.018154,
     "end_time": "2022-06-06T14:20:01.452625",
     "exception": false,
     "start_time": "2022-06-06T14:20:01.434471",
     "status": "completed"
    },
    "tags": []
   },
   "source": [
    "There appears to be no difference in the values before and after imputing with the mean. This makes perfect sense as the mean before and after replacing NaN values with the mean will be the same! However, this does not mean that our efforts are put to waste as we will have more data points to work with in further questions if we need to."
   ]
  },
  {
   "cell_type": "code",
   "execution_count": 27,
   "id": "a3fb7984",
   "metadata": {
    "execution": {
     "iopub.execute_input": "2022-06-06T14:20:01.490482Z",
     "iopub.status.busy": "2022-06-06T14:20:01.489674Z",
     "iopub.status.idle": "2022-06-06T14:20:01.512570Z",
     "shell.execute_reply": "2022-06-06T14:20:01.511821Z"
    },
    "papermill": {
     "duration": 0.043762,
     "end_time": "2022-06-06T14:20:01.514321",
     "exception": false,
     "start_time": "2022-06-06T14:20:01.470559",
     "status": "completed"
    },
    "tags": []
   },
   "outputs": [
    {
     "data": {
      "text/html": [
       "<div>\n",
       "<style scoped>\n",
       "    .dataframe tbody tr th:only-of-type {\n",
       "        vertical-align: middle;\n",
       "    }\n",
       "\n",
       "    .dataframe tbody tr th {\n",
       "        vertical-align: top;\n",
       "    }\n",
       "\n",
       "    .dataframe thead tr th {\n",
       "        text-align: left;\n",
       "    }\n",
       "\n",
       "    .dataframe thead tr:last-of-type th {\n",
       "        text-align: right;\n",
       "    }\n",
       "</style>\n",
       "<table border=\"1\" class=\"dataframe\">\n",
       "  <thead>\n",
       "    <tr>\n",
       "      <th></th>\n",
       "      <th colspan=\"12\" halign=\"left\">price</th>\n",
       "      <th>mean</th>\n",
       "    </tr>\n",
       "    <tr>\n",
       "      <th>month</th>\n",
       "      <th>1</th>\n",
       "      <th>2</th>\n",
       "      <th>3</th>\n",
       "      <th>4</th>\n",
       "      <th>5</th>\n",
       "      <th>6</th>\n",
       "      <th>7</th>\n",
       "      <th>8</th>\n",
       "      <th>9</th>\n",
       "      <th>10</th>\n",
       "      <th>11</th>\n",
       "      <th>12</th>\n",
       "      <th></th>\n",
       "    </tr>\n",
       "    <tr>\n",
       "      <th>year</th>\n",
       "      <th></th>\n",
       "      <th></th>\n",
       "      <th></th>\n",
       "      <th></th>\n",
       "      <th></th>\n",
       "      <th></th>\n",
       "      <th></th>\n",
       "      <th></th>\n",
       "      <th></th>\n",
       "      <th></th>\n",
       "      <th></th>\n",
       "      <th></th>\n",
       "      <th></th>\n",
       "    </tr>\n",
       "  </thead>\n",
       "  <tbody>\n",
       "    <tr>\n",
       "      <th>2016</th>\n",
       "      <td>121.568409</td>\n",
       "      <td>124.293927</td>\n",
       "      <td>128.644488</td>\n",
       "      <td>135.097005</td>\n",
       "      <td>139.538183</td>\n",
       "      <td>147.473137</td>\n",
       "      <td>152.09415</td>\n",
       "      <td>150.656594</td>\n",
       "      <td>143.255949</td>\n",
       "      <td>137.031939</td>\n",
       "      <td>135.688738</td>\n",
       "      <td>137.251835</td>\n",
       "      <td>137.716196</td>\n",
       "    </tr>\n",
       "    <tr>\n",
       "      <th>2017</th>\n",
       "      <td>136.882590</td>\n",
       "      <td>NaN</td>\n",
       "      <td>NaN</td>\n",
       "      <td>NaN</td>\n",
       "      <td>NaN</td>\n",
       "      <td>NaN</td>\n",
       "      <td>NaN</td>\n",
       "      <td>NaN</td>\n",
       "      <td>NaN</td>\n",
       "      <td>NaN</td>\n",
       "      <td>NaN</td>\n",
       "      <td>NaN</td>\n",
       "      <td>136.882590</td>\n",
       "    </tr>\n",
       "  </tbody>\n",
       "</table>\n",
       "</div>"
      ],
      "text/plain": [
       "            price                                                              \\\n",
       "month           1           2           3           4           5           6   \n",
       "year                                                                            \n",
       "2016   121.568409  124.293927  128.644488  135.097005  139.538183  147.473137   \n",
       "2017   136.882590         NaN         NaN         NaN         NaN         NaN   \n",
       "\n",
       "                                                                              \\\n",
       "month          7           8           9          10          11          12   \n",
       "year                                                                           \n",
       "2016   152.09415  150.656594  143.255949  137.031939  135.688738  137.251835   \n",
       "2017         NaN         NaN         NaN         NaN         NaN         NaN   \n",
       "\n",
       "             mean  \n",
       "month              \n",
       "year               \n",
       "2016   137.716196  \n",
       "2017   136.882590  "
      ]
     },
     "execution_count": 27,
     "metadata": {},
     "output_type": "execute_result"
    }
   ],
   "source": [
    "seattleCalendarPriceV2['mean'] = seattleCalendarPriceV2.mean(axis=1)\n",
    "seattleCalendarPriceV2"
   ]
  },
  {
   "cell_type": "code",
   "execution_count": 28,
   "id": "23971d81",
   "metadata": {
    "execution": {
     "iopub.execute_input": "2022-06-06T14:20:01.553746Z",
     "iopub.status.busy": "2022-06-06T14:20:01.553140Z",
     "iopub.status.idle": "2022-06-06T14:20:01.558715Z",
     "shell.execute_reply": "2022-06-06T14:20:01.557541Z"
    },
    "papermill": {
     "duration": 0.027158,
     "end_time": "2022-06-06T14:20:01.560550",
     "exception": false,
     "start_time": "2022-06-06T14:20:01.533392",
     "status": "completed"
    },
    "tags": []
   },
   "outputs": [
    {
     "name": "stdout",
     "output_type": "stream",
     "text": [
      "10.0 9.0\n"
     ]
    }
   ],
   "source": [
    "priceIncreaseJul2016 = round((152.09415 - 137.716196)/137.716196,2) * 100\n",
    "priceIncreaseAug2016 = round((150.656594 - 137.716196)/137.716196,2) * 100\n",
    "print(priceIncreaseJul2016,priceIncreaseAug2016)"
   ]
  },
  {
   "cell_type": "markdown",
   "id": "e98363ab",
   "metadata": {
    "papermill": {
     "duration": 0.01839,
     "end_time": "2022-06-06T14:20:01.597255",
     "exception": false,
     "start_time": "2022-06-06T14:20:01.578865",
     "status": "completed"
    },
    "tags": []
   },
   "source": [
    "To conclude Question 3, ignoring Jan 2016, the price of Airbnb rentals in seattle increased by 10% in Jul 2016 and 9% in Aug 2016 on average."
   ]
  },
  {
   "cell_type": "markdown",
   "id": "31fbe05b",
   "metadata": {
    "papermill": {
     "duration": 0.01844,
     "end_time": "2022-06-06T14:20:01.634057",
     "exception": false,
     "start_time": "2022-06-06T14:20:01.615617",
     "status": "completed"
    },
    "tags": []
   },
   "source": [
    "#### 3. Does the popularity (availability) of Airbnb homes correlate to their review score?"
   ]
  },
  {
   "cell_type": "code",
   "execution_count": 29,
   "id": "90e4b4e6",
   "metadata": {
    "execution": {
     "iopub.execute_input": "2022-06-06T14:20:01.673603Z",
     "iopub.status.busy": "2022-06-06T14:20:01.672990Z",
     "iopub.status.idle": "2022-06-06T14:20:01.681772Z",
     "shell.execute_reply": "2022-06-06T14:20:01.681133Z"
    },
    "papermill": {
     "duration": 0.030696,
     "end_time": "2022-06-06T14:20:01.683630",
     "exception": false,
     "start_time": "2022-06-06T14:20:01.652934",
     "status": "completed"
    },
    "tags": []
   },
   "outputs": [],
   "source": [
    "# Dropping unnecessary columns\n",
    "seattleCalendarReview = seattleCalendar.drop(['date','price'], axis=1)"
   ]
  },
  {
   "cell_type": "code",
   "execution_count": 30,
   "id": "3fe4d146",
   "metadata": {
    "execution": {
     "iopub.execute_input": "2022-06-06T14:20:01.723331Z",
     "iopub.status.busy": "2022-06-06T14:20:01.722923Z",
     "iopub.status.idle": "2022-06-06T14:20:01.767453Z",
     "shell.execute_reply": "2022-06-06T14:20:01.766799Z"
    },
    "papermill": {
     "duration": 0.066528,
     "end_time": "2022-06-06T14:20:01.769212",
     "exception": false,
     "start_time": "2022-06-06T14:20:01.702684",
     "status": "completed"
    },
    "tags": []
   },
   "outputs": [
    {
     "data": {
      "text/html": [
       "<div>\n",
       "<style scoped>\n",
       "    .dataframe tbody tr th:only-of-type {\n",
       "        vertical-align: middle;\n",
       "    }\n",
       "\n",
       "    .dataframe tbody tr th {\n",
       "        vertical-align: top;\n",
       "    }\n",
       "\n",
       "    .dataframe thead th {\n",
       "        text-align: right;\n",
       "    }\n",
       "</style>\n",
       "<table border=\"1\" class=\"dataframe\">\n",
       "  <thead>\n",
       "    <tr style=\"text-align: right;\">\n",
       "      <th></th>\n",
       "      <th>listing_id</th>\n",
       "      <th>available</th>\n",
       "    </tr>\n",
       "  </thead>\n",
       "  <tbody>\n",
       "    <tr>\n",
       "      <th>0</th>\n",
       "      <td>3335</td>\n",
       "      <td>0.846575</td>\n",
       "    </tr>\n",
       "    <tr>\n",
       "      <th>1</th>\n",
       "      <td>4291</td>\n",
       "      <td>1.000000</td>\n",
       "    </tr>\n",
       "    <tr>\n",
       "      <th>2</th>\n",
       "      <td>5682</td>\n",
       "      <td>0.846575</td>\n",
       "    </tr>\n",
       "    <tr>\n",
       "      <th>3</th>\n",
       "      <td>6606</td>\n",
       "      <td>1.000000</td>\n",
       "    </tr>\n",
       "    <tr>\n",
       "      <th>4</th>\n",
       "      <td>7369</td>\n",
       "      <td>0.145205</td>\n",
       "    </tr>\n",
       "    <tr>\n",
       "      <th>...</th>\n",
       "      <td>...</td>\n",
       "      <td>...</td>\n",
       "    </tr>\n",
       "    <tr>\n",
       "      <th>3813</th>\n",
       "      <td>10332096</td>\n",
       "      <td>1.000000</td>\n",
       "    </tr>\n",
       "    <tr>\n",
       "      <th>3814</th>\n",
       "      <td>10334184</td>\n",
       "      <td>0.989041</td>\n",
       "    </tr>\n",
       "    <tr>\n",
       "      <th>3815</th>\n",
       "      <td>10339144</td>\n",
       "      <td>0.000000</td>\n",
       "    </tr>\n",
       "    <tr>\n",
       "      <th>3816</th>\n",
       "      <td>10339145</td>\n",
       "      <td>1.000000</td>\n",
       "    </tr>\n",
       "    <tr>\n",
       "      <th>3817</th>\n",
       "      <td>10340165</td>\n",
       "      <td>0.980822</td>\n",
       "    </tr>\n",
       "  </tbody>\n",
       "</table>\n",
       "<p>3818 rows × 2 columns</p>\n",
       "</div>"
      ],
      "text/plain": [
       "      listing_id  available\n",
       "0           3335   0.846575\n",
       "1           4291   1.000000\n",
       "2           5682   0.846575\n",
       "3           6606   1.000000\n",
       "4           7369   0.145205\n",
       "...          ...        ...\n",
       "3813    10332096   1.000000\n",
       "3814    10334184   0.989041\n",
       "3815    10339144   0.000000\n",
       "3816    10339145   1.000000\n",
       "3817    10340165   0.980822\n",
       "\n",
       "[3818 rows x 2 columns]"
      ]
     },
     "execution_count": 30,
     "metadata": {},
     "output_type": "execute_result"
    }
   ],
   "source": [
    "seattleCalendarReview = seattleCalendarReview.groupby(['listing_id']).mean()\n",
    "seattleCalendarReview.reset_index()"
   ]
  },
  {
   "cell_type": "code",
   "execution_count": 31,
   "id": "3088588d",
   "metadata": {
    "execution": {
     "iopub.execute_input": "2022-06-06T14:20:01.809609Z",
     "iopub.status.busy": "2022-06-06T14:20:01.808999Z",
     "iopub.status.idle": "2022-06-06T14:20:02.273547Z",
     "shell.execute_reply": "2022-06-06T14:20:02.272600Z"
    },
    "papermill": {
     "duration": 0.487411,
     "end_time": "2022-06-06T14:20:02.276035",
     "exception": false,
     "start_time": "2022-06-06T14:20:01.788624",
     "status": "completed"
    },
    "tags": []
   },
   "outputs": [],
   "source": [
    "# Reading in the new dataset and renaming to columns to facilitate merging\n",
    "seattleListings = pd.read_csv('../input/seattle/listings.csv')\n",
    "seattleListings.rename(columns = {'id':'listing_id'}, inplace = True)"
   ]
  },
  {
   "cell_type": "code",
   "execution_count": 32,
   "id": "d8a762c1",
   "metadata": {
    "execution": {
     "iopub.execute_input": "2022-06-06T14:20:02.316738Z",
     "iopub.status.busy": "2022-06-06T14:20:02.316352Z",
     "iopub.status.idle": "2022-06-06T14:20:02.329588Z",
     "shell.execute_reply": "2022-06-06T14:20:02.328727Z"
    },
    "papermill": {
     "duration": 0.035973,
     "end_time": "2022-06-06T14:20:02.331681",
     "exception": false,
     "start_time": "2022-06-06T14:20:02.295708",
     "status": "completed"
    },
    "tags": []
   },
   "outputs": [],
   "source": [
    "# Merging the two datasets based on listing_id\n",
    "listingAvailReviews = pd.merge(seattleCalendarReview,seattleListings[['listing_id','review_scores_value','reviews_per_month']],on='listing_id', how='left')"
   ]
  },
  {
   "cell_type": "code",
   "execution_count": 33,
   "id": "74c30c2d",
   "metadata": {
    "execution": {
     "iopub.execute_input": "2022-06-06T14:20:02.370891Z",
     "iopub.status.busy": "2022-06-06T14:20:02.370503Z",
     "iopub.status.idle": "2022-06-06T14:20:02.381243Z",
     "shell.execute_reply": "2022-06-06T14:20:02.380643Z"
    },
    "papermill": {
     "duration": 0.032674,
     "end_time": "2022-06-06T14:20:02.382891",
     "exception": false,
     "start_time": "2022-06-06T14:20:02.350217",
     "status": "completed"
    },
    "tags": []
   },
   "outputs": [
    {
     "data": {
      "text/html": [
       "<div>\n",
       "<style scoped>\n",
       "    .dataframe tbody tr th:only-of-type {\n",
       "        vertical-align: middle;\n",
       "    }\n",
       "\n",
       "    .dataframe tbody tr th {\n",
       "        vertical-align: top;\n",
       "    }\n",
       "\n",
       "    .dataframe thead th {\n",
       "        text-align: right;\n",
       "    }\n",
       "</style>\n",
       "<table border=\"1\" class=\"dataframe\">\n",
       "  <thead>\n",
       "    <tr style=\"text-align: right;\">\n",
       "      <th></th>\n",
       "      <th>listing_id</th>\n",
       "      <th>available</th>\n",
       "      <th>review_scores_value</th>\n",
       "      <th>reviews_per_month</th>\n",
       "    </tr>\n",
       "  </thead>\n",
       "  <tbody>\n",
       "    <tr>\n",
       "      <th>0</th>\n",
       "      <td>3335</td>\n",
       "      <td>0.846575</td>\n",
       "      <td>NaN</td>\n",
       "      <td>NaN</td>\n",
       "    </tr>\n",
       "    <tr>\n",
       "      <th>1</th>\n",
       "      <td>4291</td>\n",
       "      <td>1.000000</td>\n",
       "      <td>9.0</td>\n",
       "      <td>1.14</td>\n",
       "    </tr>\n",
       "    <tr>\n",
       "      <th>2</th>\n",
       "      <td>5682</td>\n",
       "      <td>0.846575</td>\n",
       "      <td>10.0</td>\n",
       "      <td>4.21</td>\n",
       "    </tr>\n",
       "    <tr>\n",
       "      <th>3</th>\n",
       "      <td>6606</td>\n",
       "      <td>1.000000</td>\n",
       "      <td>9.0</td>\n",
       "      <td>0.66</td>\n",
       "    </tr>\n",
       "    <tr>\n",
       "      <th>4</th>\n",
       "      <td>7369</td>\n",
       "      <td>0.145205</td>\n",
       "      <td>9.0</td>\n",
       "      <td>0.50</td>\n",
       "    </tr>\n",
       "  </tbody>\n",
       "</table>\n",
       "</div>"
      ],
      "text/plain": [
       "   listing_id  available  review_scores_value  reviews_per_month\n",
       "0        3335   0.846575                  NaN                NaN\n",
       "1        4291   1.000000                  9.0               1.14\n",
       "2        5682   0.846575                 10.0               4.21\n",
       "3        6606   1.000000                  9.0               0.66\n",
       "4        7369   0.145205                  9.0               0.50"
      ]
     },
     "execution_count": 33,
     "metadata": {},
     "output_type": "execute_result"
    }
   ],
   "source": [
    "listingAvailReviews.head()"
   ]
  },
  {
   "cell_type": "code",
   "execution_count": 34,
   "id": "c6968f46",
   "metadata": {
    "execution": {
     "iopub.execute_input": "2022-06-06T14:20:02.422237Z",
     "iopub.status.busy": "2022-06-06T14:20:02.421875Z",
     "iopub.status.idle": "2022-06-06T14:20:02.428907Z",
     "shell.execute_reply": "2022-06-06T14:20:02.428345Z"
    },
    "papermill": {
     "duration": 0.029235,
     "end_time": "2022-06-06T14:20:02.431145",
     "exception": false,
     "start_time": "2022-06-06T14:20:02.401910",
     "status": "completed"
    },
    "tags": []
   },
   "outputs": [
    {
     "name": "stdout",
     "output_type": "stream",
     "text": [
      "#Nan in listing_id = 0, #Nan in available = 0, #Nan in review_scores_value = 656, #Nan in reviews_per_month = 627\n"
     ]
    }
   ],
   "source": [
    "# Checking NaN values in newly merged dataset\n",
    "a = listingAvailReviews['listing_id'].isna().sum()\n",
    "b = listingAvailReviews['available'].isna().sum()\n",
    "c = listingAvailReviews['review_scores_value'].isna().sum()\n",
    "d = listingAvailReviews['reviews_per_month'].isna().sum()\n",
    "\n",
    "print('#Nan in listing_id = {}, #Nan in available = {}, #Nan in review_scores_value = {}, #Nan in reviews_per_month = {}'.format(a, b, c, d))"
   ]
  },
  {
   "cell_type": "code",
   "execution_count": 35,
   "id": "bda1abab",
   "metadata": {
    "execution": {
     "iopub.execute_input": "2022-06-06T14:20:02.468524Z",
     "iopub.status.busy": "2022-06-06T14:20:02.467979Z",
     "iopub.status.idle": "2022-06-06T14:20:02.479588Z",
     "shell.execute_reply": "2022-06-06T14:20:02.479085Z"
    },
    "papermill": {
     "duration": 0.031446,
     "end_time": "2022-06-06T14:20:02.481120",
     "exception": false,
     "start_time": "2022-06-06T14:20:02.449674",
     "status": "completed"
    },
    "tags": []
   },
   "outputs": [
    {
     "data": {
      "text/html": [
       "<div>\n",
       "<style scoped>\n",
       "    .dataframe tbody tr th:only-of-type {\n",
       "        vertical-align: middle;\n",
       "    }\n",
       "\n",
       "    .dataframe tbody tr th {\n",
       "        vertical-align: top;\n",
       "    }\n",
       "\n",
       "    .dataframe thead th {\n",
       "        text-align: right;\n",
       "    }\n",
       "</style>\n",
       "<table border=\"1\" class=\"dataframe\">\n",
       "  <thead>\n",
       "    <tr style=\"text-align: right;\">\n",
       "      <th></th>\n",
       "      <th>listing_id</th>\n",
       "      <th>available</th>\n",
       "      <th>review_scores_value</th>\n",
       "      <th>reviews_per_month</th>\n",
       "    </tr>\n",
       "  </thead>\n",
       "  <tbody>\n",
       "    <tr>\n",
       "      <th>1</th>\n",
       "      <td>4291</td>\n",
       "      <td>1.000000</td>\n",
       "      <td>9.0</td>\n",
       "      <td>1.14</td>\n",
       "    </tr>\n",
       "    <tr>\n",
       "      <th>2</th>\n",
       "      <td>5682</td>\n",
       "      <td>0.846575</td>\n",
       "      <td>10.0</td>\n",
       "      <td>4.21</td>\n",
       "    </tr>\n",
       "    <tr>\n",
       "      <th>3</th>\n",
       "      <td>6606</td>\n",
       "      <td>1.000000</td>\n",
       "      <td>9.0</td>\n",
       "      <td>0.66</td>\n",
       "    </tr>\n",
       "    <tr>\n",
       "      <th>4</th>\n",
       "      <td>7369</td>\n",
       "      <td>0.145205</td>\n",
       "      <td>9.0</td>\n",
       "      <td>0.50</td>\n",
       "    </tr>\n",
       "    <tr>\n",
       "      <th>5</th>\n",
       "      <td>9419</td>\n",
       "      <td>1.000000</td>\n",
       "      <td>9.0</td>\n",
       "      <td>1.19</td>\n",
       "    </tr>\n",
       "  </tbody>\n",
       "</table>\n",
       "</div>"
      ],
      "text/plain": [
       "   listing_id  available  review_scores_value  reviews_per_month\n",
       "1        4291   1.000000                  9.0               1.14\n",
       "2        5682   0.846575                 10.0               4.21\n",
       "3        6606   1.000000                  9.0               0.66\n",
       "4        7369   0.145205                  9.0               0.50\n",
       "5        9419   1.000000                  9.0               1.19"
      ]
     },
     "execution_count": 35,
     "metadata": {},
     "output_type": "execute_result"
    }
   ],
   "source": [
    "# Dropping NaN values in columns 'review_scores_value' and 'reviews_per_month' \n",
    "listingAvailReviews.dropna(subset=['review_scores_value', 'reviews_per_month'], inplace = True)\n",
    "listingAvailReviews.head()"
   ]
  },
  {
   "cell_type": "code",
   "execution_count": 36,
   "id": "8dc24eae",
   "metadata": {
    "execution": {
     "iopub.execute_input": "2022-06-06T14:20:02.516211Z",
     "iopub.status.busy": "2022-06-06T14:20:02.515740Z",
     "iopub.status.idle": "2022-06-06T14:20:02.584453Z",
     "shell.execute_reply": "2022-06-06T14:20:02.583427Z"
    },
    "papermill": {
     "duration": 0.088773,
     "end_time": "2022-06-06T14:20:02.586765",
     "exception": false,
     "start_time": "2022-06-06T14:20:02.497992",
     "status": "completed"
    },
    "tags": []
   },
   "outputs": [
    {
     "data": {
      "text/html": [
       "<style type=\"text/css\">\n",
       "#T_6c750_row0_col0, #T_6c750_row1_col1, #T_6c750_row2_col2, #T_6c750_row3_col3 {\n",
       "  background-color: #08306b;\n",
       "  color: #f1f1f1;\n",
       "}\n",
       "#T_6c750_row0_col1, #T_6c750_row1_col0, #T_6c750_row1_col2, #T_6c750_row1_col3 {\n",
       "  background-color: #f7fbff;\n",
       "  color: #000000;\n",
       "}\n",
       "#T_6c750_row0_col2 {\n",
       "  background-color: #dae8f6;\n",
       "  color: #000000;\n",
       "}\n",
       "#T_6c750_row0_col3 {\n",
       "  background-color: #e4eff9;\n",
       "  color: #000000;\n",
       "}\n",
       "#T_6c750_row2_col0 {\n",
       "  background-color: #cfe1f2;\n",
       "  color: #000000;\n",
       "}\n",
       "#T_6c750_row2_col1 {\n",
       "  background-color: #eaf2fb;\n",
       "  color: #000000;\n",
       "}\n",
       "#T_6c750_row2_col3 {\n",
       "  background-color: #dfebf7;\n",
       "  color: #000000;\n",
       "}\n",
       "#T_6c750_row3_col0 {\n",
       "  background-color: #cde0f1;\n",
       "  color: #000000;\n",
       "}\n",
       "#T_6c750_row3_col1 {\n",
       "  background-color: #ddeaf7;\n",
       "  color: #000000;\n",
       "}\n",
       "#T_6c750_row3_col2 {\n",
       "  background-color: #d3e4f3;\n",
       "  color: #000000;\n",
       "}\n",
       "</style>\n",
       "<table id=\"T_6c750_\">\n",
       "  <thead>\n",
       "    <tr>\n",
       "      <th class=\"blank level0\" >&nbsp;</th>\n",
       "      <th class=\"col_heading level0 col0\" >listing_id</th>\n",
       "      <th class=\"col_heading level0 col1\" >available</th>\n",
       "      <th class=\"col_heading level0 col2\" >review_scores_value</th>\n",
       "      <th class=\"col_heading level0 col3\" >reviews_per_month</th>\n",
       "    </tr>\n",
       "  </thead>\n",
       "  <tbody>\n",
       "    <tr>\n",
       "      <th id=\"T_6c750_level0_row0\" class=\"row_heading level0 row0\" >listing_id</th>\n",
       "      <td id=\"T_6c750_row0_col0\" class=\"data row0 col0\" >1.000000</td>\n",
       "      <td id=\"T_6c750_row0_col1\" class=\"data row0 col1\" >-0.146523</td>\n",
       "      <td id=\"T_6c750_row0_col2\" class=\"data row0 col2\" >0.087858</td>\n",
       "      <td id=\"T_6c750_row0_col3\" class=\"data row0 col3\" >0.096377</td>\n",
       "    </tr>\n",
       "    <tr>\n",
       "      <th id=\"T_6c750_level0_row1\" class=\"row_heading level0 row1\" >available</th>\n",
       "      <td id=\"T_6c750_row1_col0\" class=\"data row1 col0\" >-0.146523</td>\n",
       "      <td id=\"T_6c750_row1_col1\" class=\"data row1 col1\" >1.000000</td>\n",
       "      <td id=\"T_6c750_row1_col2\" class=\"data row1 col2\" >-0.066565</td>\n",
       "      <td id=\"T_6c750_row1_col3\" class=\"data row1 col3\" >0.002623</td>\n",
       "    </tr>\n",
       "    <tr>\n",
       "      <th id=\"T_6c750_level0_row2\" class=\"row_heading level0 row2\" >review_scores_value</th>\n",
       "      <td id=\"T_6c750_row2_col0\" class=\"data row2 col0\" >0.087858</td>\n",
       "      <td id=\"T_6c750_row2_col1\" class=\"data row2 col1\" >-0.066565</td>\n",
       "      <td id=\"T_6c750_row2_col2\" class=\"data row2 col2\" >1.000000</td>\n",
       "      <td id=\"T_6c750_row2_col3\" class=\"data row2 col3\" >0.126014</td>\n",
       "    </tr>\n",
       "    <tr>\n",
       "      <th id=\"T_6c750_level0_row3\" class=\"row_heading level0 row3\" >reviews_per_month</th>\n",
       "      <td id=\"T_6c750_row3_col0\" class=\"data row3 col0\" >0.096377</td>\n",
       "      <td id=\"T_6c750_row3_col1\" class=\"data row3 col1\" >0.002623</td>\n",
       "      <td id=\"T_6c750_row3_col2\" class=\"data row3 col2\" >0.126014</td>\n",
       "      <td id=\"T_6c750_row3_col3\" class=\"data row3 col3\" >1.000000</td>\n",
       "    </tr>\n",
       "  </tbody>\n",
       "</table>\n"
      ],
      "text/plain": [
       "<pandas.io.formats.style.Styler at 0x7fc939ff2450>"
      ]
     },
     "execution_count": 36,
     "metadata": {},
     "output_type": "execute_result"
    }
   ],
   "source": [
    "# Determining the correlation between variables\n",
    "listingAvailReviews.corr().style.background_gradient(cmap=\"Blues\")\n"
   ]
  },
  {
   "cell_type": "markdown",
   "id": "3845688f",
   "metadata": {
    "papermill": {
     "duration": 0.018729,
     "end_time": "2022-06-06T14:20:02.625287",
     "exception": false,
     "start_time": "2022-06-06T14:20:02.606558",
     "status": "completed"
    },
    "tags": []
   },
   "source": [
    "There doesn't seem to be any correlation between the popularity (availability) of Airbnb homes and their review scores. Why is this so? It makes logical sense for Airbnb homes with higher review scores to have lower availability due to the concept of social proof - people would want to stay in a Airbnb which is better reviewed. Hence, I expected 'available' to have a negative correlation to 'review_scores_value'.\n",
    "\n",
    "The reason for this could be that there are other factors that matter more to renters such as price, which I'll be exploring in the next question."
   ]
  },
  {
   "cell_type": "markdown",
   "id": "fcf49fd1",
   "metadata": {
    "papermill": {
     "duration": 0.018778,
     "end_time": "2022-06-06T14:20:02.663362",
     "exception": false,
     "start_time": "2022-06-06T14:20:02.644584",
     "status": "completed"
    },
    "tags": []
   },
   "source": [
    "#### 4. Does the popularity (availability) of Airbnb homes correlate to their price?"
   ]
  },
  {
   "cell_type": "code",
   "execution_count": 37,
   "id": "0b9f5758",
   "metadata": {
    "execution": {
     "iopub.execute_input": "2022-06-06T14:20:02.702255Z",
     "iopub.status.busy": "2022-06-06T14:20:02.701872Z",
     "iopub.status.idle": "2022-06-06T14:20:04.260366Z",
     "shell.execute_reply": "2022-06-06T14:20:04.259451Z"
    },
    "papermill": {
     "duration": 1.580179,
     "end_time": "2022-06-06T14:20:04.262360",
     "exception": false,
     "start_time": "2022-06-06T14:20:02.682181",
     "status": "completed"
    },
    "tags": []
   },
   "outputs": [
    {
     "name": "stderr",
     "output_type": "stream",
     "text": [
      "/opt/conda/lib/python3.7/site-packages/ipykernel_launcher.py:2: FutureWarning: The default value of regex will change from True to False in a future version. In addition, single character regular expressions will *not* be treated as literal strings when regex=True.\n",
      "  \n"
     ]
    },
    {
     "data": {
      "text/plain": [
       "1    934542\n",
       "0    459028\n",
       "Name: available, dtype: int64"
      ]
     },
     "execution_count": 37,
     "metadata": {},
     "output_type": "execute_result"
    }
   ],
   "source": [
    "seattlePopular = seattleCalendar.drop(['date'], axis=1)\n",
    "seattlePopular['price'] = seattlePopular['price'].str.replace('$', '')\n",
    "seattlePopular['price'] = seattlePopular['price'].str.replace(',', '')\n",
    "seattlePopular['price'] = seattlePopular['price'].astype(float)\n",
    "seattlePopular.available.value_counts()"
   ]
  },
  {
   "cell_type": "code",
   "execution_count": 38,
   "id": "8f07a277",
   "metadata": {
    "execution": {
     "iopub.execute_input": "2022-06-06T14:20:04.302567Z",
     "iopub.status.busy": "2022-06-06T14:20:04.302175Z",
     "iopub.status.idle": "2022-06-06T14:20:04.350648Z",
     "shell.execute_reply": "2022-06-06T14:20:04.349788Z"
    },
    "papermill": {
     "duration": 0.070945,
     "end_time": "2022-06-06T14:20:04.352596",
     "exception": false,
     "start_time": "2022-06-06T14:20:04.281651",
     "status": "completed"
    },
    "tags": []
   },
   "outputs": [
    {
     "data": {
      "text/plain": [
       "1    934542\n",
       "Name: available, dtype: int64"
      ]
     },
     "execution_count": 38,
     "metadata": {},
     "output_type": "execute_result"
    }
   ],
   "source": [
    "seattlePopular.dropna(subset=['price'], inplace = True)\n",
    "seattlePopular.available.value_counts()"
   ]
  },
  {
   "cell_type": "markdown",
   "id": "a1254cf4",
   "metadata": {
    "papermill": {
     "duration": 0.018462,
     "end_time": "2022-06-06T14:20:04.391116",
     "exception": false,
     "start_time": "2022-06-06T14:20:04.372654",
     "status": "completed"
    },
    "tags": []
   },
   "source": [
    "Notice that when I removed rows with NaN values in 'price', all rows with 0 in 'available' was removed as well. This is an interesting point I just realized about the Seattle dataset. Airbnb does not provide price data for homes that were booked (i.e. with availability = 0). This means I can't simply remove all rows with NaN values in the 'price' column.\n",
    "\n",
    "The best we can do is simply impute the values using the mean of the Airbnb listing in that particular month and year, as we have done previously."
   ]
  },
  {
   "cell_type": "code",
   "execution_count": 39,
   "id": "83065d76",
   "metadata": {
    "execution": {
     "iopub.execute_input": "2022-06-06T14:20:04.429126Z",
     "iopub.status.busy": "2022-06-06T14:20:04.428248Z",
     "iopub.status.idle": "2022-06-06T14:20:13.740309Z",
     "shell.execute_reply": "2022-06-06T14:20:13.739693Z"
    },
    "papermill": {
     "duration": 9.332606,
     "end_time": "2022-06-06T14:20:13.741930",
     "exception": false,
     "start_time": "2022-06-06T14:20:04.409324",
     "status": "completed"
    },
    "tags": []
   },
   "outputs": [
    {
     "name": "stderr",
     "output_type": "stream",
     "text": [
      "/opt/conda/lib/python3.7/site-packages/ipykernel_launcher.py:4: FutureWarning: The default value of regex will change from True to False in a future version. In addition, single character regular expressions will *not* be treated as literal strings when regex=True.\n",
      "  after removing the cwd from sys.path.\n"
     ]
    },
    {
     "data": {
      "text/html": [
       "<div>\n",
       "<style scoped>\n",
       "    .dataframe tbody tr th:only-of-type {\n",
       "        vertical-align: middle;\n",
       "    }\n",
       "\n",
       "    .dataframe tbody tr th {\n",
       "        vertical-align: top;\n",
       "    }\n",
       "\n",
       "    .dataframe thead th {\n",
       "        text-align: right;\n",
       "    }\n",
       "</style>\n",
       "<table border=\"1\" class=\"dataframe\">\n",
       "  <thead>\n",
       "    <tr style=\"text-align: right;\">\n",
       "      <th></th>\n",
       "      <th>listing_id</th>\n",
       "      <th>date</th>\n",
       "      <th>available</th>\n",
       "      <th>price</th>\n",
       "      <th>month</th>\n",
       "      <th>year</th>\n",
       "    </tr>\n",
       "  </thead>\n",
       "  <tbody>\n",
       "    <tr>\n",
       "      <th>0</th>\n",
       "      <td>241032</td>\n",
       "      <td>2016-01-04</td>\n",
       "      <td>1</td>\n",
       "      <td>85.0</td>\n",
       "      <td>1</td>\n",
       "      <td>2016</td>\n",
       "    </tr>\n",
       "    <tr>\n",
       "      <th>1</th>\n",
       "      <td>241032</td>\n",
       "      <td>2016-01-05</td>\n",
       "      <td>1</td>\n",
       "      <td>85.0</td>\n",
       "      <td>1</td>\n",
       "      <td>2016</td>\n",
       "    </tr>\n",
       "    <tr>\n",
       "      <th>2</th>\n",
       "      <td>241032</td>\n",
       "      <td>2016-01-06</td>\n",
       "      <td>0</td>\n",
       "      <td>NaN</td>\n",
       "      <td>1</td>\n",
       "      <td>2016</td>\n",
       "    </tr>\n",
       "    <tr>\n",
       "      <th>3</th>\n",
       "      <td>241032</td>\n",
       "      <td>2016-01-07</td>\n",
       "      <td>0</td>\n",
       "      <td>NaN</td>\n",
       "      <td>1</td>\n",
       "      <td>2016</td>\n",
       "    </tr>\n",
       "    <tr>\n",
       "      <th>4</th>\n",
       "      <td>241032</td>\n",
       "      <td>2016-01-08</td>\n",
       "      <td>0</td>\n",
       "      <td>NaN</td>\n",
       "      <td>1</td>\n",
       "      <td>2016</td>\n",
       "    </tr>\n",
       "  </tbody>\n",
       "</table>\n",
       "</div>"
      ],
      "text/plain": [
       "   listing_id       date  available  price  month  year\n",
       "0      241032 2016-01-04          1   85.0      1  2016\n",
       "1      241032 2016-01-05          1   85.0      1  2016\n",
       "2      241032 2016-01-06          0    NaN      1  2016\n",
       "3      241032 2016-01-07          0    NaN      1  2016\n",
       "4      241032 2016-01-08          0    NaN      1  2016"
      ]
     },
     "execution_count": 39,
     "metadata": {},
     "output_type": "execute_result"
    }
   ],
   "source": [
    "seattlePopular = seattleCalendar.copy()\n",
    "seattlePopular['month'] = [i.month for i in seattlePopular['date']]\n",
    "seattlePopular['year'] = [i.year for i in seattlePopular['date']]\n",
    "seattlePopular['price'] = seattlePopular['price'].str.replace('$', '')\n",
    "seattlePopular['price'] = seattlePopular['price'].str.replace(',', '')\n",
    "seattlePopular['price'] = seattlePopular['price'].astype(float)\n",
    "seattlePopular.head()"
   ]
  },
  {
   "cell_type": "code",
   "execution_count": 40,
   "id": "83ad0f97",
   "metadata": {
    "execution": {
     "iopub.execute_input": "2022-06-06T14:20:13.782786Z",
     "iopub.status.busy": "2022-06-06T14:20:13.781976Z",
     "iopub.status.idle": "2022-06-06T14:20:14.147180Z",
     "shell.execute_reply": "2022-06-06T14:20:14.146504Z"
    },
    "papermill": {
     "duration": 0.388298,
     "end_time": "2022-06-06T14:20:14.149185",
     "exception": false,
     "start_time": "2022-06-06T14:20:13.760887",
     "status": "completed"
    },
    "tags": []
   },
   "outputs": [
    {
     "data": {
      "text/html": [
       "<div>\n",
       "<style scoped>\n",
       "    .dataframe tbody tr th:only-of-type {\n",
       "        vertical-align: middle;\n",
       "    }\n",
       "\n",
       "    .dataframe tbody tr th {\n",
       "        vertical-align: top;\n",
       "    }\n",
       "\n",
       "    .dataframe thead th {\n",
       "        text-align: right;\n",
       "    }\n",
       "</style>\n",
       "<table border=\"1\" class=\"dataframe\">\n",
       "  <thead>\n",
       "    <tr style=\"text-align: right;\">\n",
       "      <th></th>\n",
       "      <th>listing_id</th>\n",
       "      <th>date</th>\n",
       "      <th>available</th>\n",
       "      <th>price</th>\n",
       "      <th>month</th>\n",
       "      <th>year</th>\n",
       "    </tr>\n",
       "  </thead>\n",
       "  <tbody>\n",
       "    <tr>\n",
       "      <th>0</th>\n",
       "      <td>241032</td>\n",
       "      <td>2016-01-04</td>\n",
       "      <td>1</td>\n",
       "      <td>85.000000</td>\n",
       "      <td>1</td>\n",
       "      <td>2016</td>\n",
       "    </tr>\n",
       "    <tr>\n",
       "      <th>1</th>\n",
       "      <td>241032</td>\n",
       "      <td>2016-01-05</td>\n",
       "      <td>1</td>\n",
       "      <td>85.000000</td>\n",
       "      <td>1</td>\n",
       "      <td>2016</td>\n",
       "    </tr>\n",
       "    <tr>\n",
       "      <th>2</th>\n",
       "      <td>241032</td>\n",
       "      <td>2016-01-06</td>\n",
       "      <td>0</td>\n",
       "      <td>121.568409</td>\n",
       "      <td>1</td>\n",
       "      <td>2016</td>\n",
       "    </tr>\n",
       "    <tr>\n",
       "      <th>3</th>\n",
       "      <td>241032</td>\n",
       "      <td>2016-01-07</td>\n",
       "      <td>0</td>\n",
       "      <td>121.568409</td>\n",
       "      <td>1</td>\n",
       "      <td>2016</td>\n",
       "    </tr>\n",
       "    <tr>\n",
       "      <th>4</th>\n",
       "      <td>241032</td>\n",
       "      <td>2016-01-08</td>\n",
       "      <td>0</td>\n",
       "      <td>121.568409</td>\n",
       "      <td>1</td>\n",
       "      <td>2016</td>\n",
       "    </tr>\n",
       "  </tbody>\n",
       "</table>\n",
       "</div>"
      ],
      "text/plain": [
       "   listing_id       date  available       price  month  year\n",
       "0      241032 2016-01-04          1   85.000000      1  2016\n",
       "1      241032 2016-01-05          1   85.000000      1  2016\n",
       "2      241032 2016-01-06          0  121.568409      1  2016\n",
       "3      241032 2016-01-07          0  121.568409      1  2016\n",
       "4      241032 2016-01-08          0  121.568409      1  2016"
      ]
     },
     "execution_count": 40,
     "metadata": {},
     "output_type": "execute_result"
    }
   ],
   "source": [
    "def replace_missing_with_conditional_mean(df, condition_cols, cols):\n",
    "    '''\n",
    "    replaces NaN values in an input df with the mean of the subset of the column, conditional \n",
    "    on the values of specified columns\n",
    "    \n",
    "    input:\n",
    "            df: dataframe with NaN values\n",
    "            conditional_cols: columns which values to be conditional on\n",
    "            cols: columns with NaN values to be replaced\n",
    "    output:\n",
    "            new_df: dataframe with NaN values replaced by conditional mean\n",
    "    '''\n",
    "    \n",
    "    s = df.groupby(condition_cols)[cols].transform('mean')\n",
    "    new_df = df.fillna(s)\n",
    "    \n",
    "    return new_df\n",
    "\n",
    "seattlePopular = replace_missing_with_conditional_mean(seattlePopular, ['month', 'year'], ['price'])\n",
    "seattlePopular.head()"
   ]
  },
  {
   "cell_type": "code",
   "execution_count": 41,
   "id": "66aac206",
   "metadata": {
    "execution": {
     "iopub.execute_input": "2022-06-06T14:20:14.192390Z",
     "iopub.status.busy": "2022-06-06T14:20:14.191910Z",
     "iopub.status.idle": "2022-06-06T14:20:14.215632Z",
     "shell.execute_reply": "2022-06-06T14:20:14.214776Z"
    },
    "papermill": {
     "duration": 0.047256,
     "end_time": "2022-06-06T14:20:14.217594",
     "exception": false,
     "start_time": "2022-06-06T14:20:14.170338",
     "status": "completed"
    },
    "tags": []
   },
   "outputs": [
    {
     "data": {
      "text/html": [
       "<div>\n",
       "<style scoped>\n",
       "    .dataframe tbody tr th:only-of-type {\n",
       "        vertical-align: middle;\n",
       "    }\n",
       "\n",
       "    .dataframe tbody tr th {\n",
       "        vertical-align: top;\n",
       "    }\n",
       "\n",
       "    .dataframe thead th {\n",
       "        text-align: right;\n",
       "    }\n",
       "</style>\n",
       "<table border=\"1\" class=\"dataframe\">\n",
       "  <thead>\n",
       "    <tr style=\"text-align: right;\">\n",
       "      <th></th>\n",
       "      <th>listing_id</th>\n",
       "      <th>available</th>\n",
       "      <th>price</th>\n",
       "    </tr>\n",
       "  </thead>\n",
       "  <tbody>\n",
       "    <tr>\n",
       "      <th>0</th>\n",
       "      <td>241032</td>\n",
       "      <td>1</td>\n",
       "      <td>85.000000</td>\n",
       "    </tr>\n",
       "    <tr>\n",
       "      <th>1</th>\n",
       "      <td>241032</td>\n",
       "      <td>1</td>\n",
       "      <td>85.000000</td>\n",
       "    </tr>\n",
       "    <tr>\n",
       "      <th>2</th>\n",
       "      <td>241032</td>\n",
       "      <td>0</td>\n",
       "      <td>121.568409</td>\n",
       "    </tr>\n",
       "    <tr>\n",
       "      <th>3</th>\n",
       "      <td>241032</td>\n",
       "      <td>0</td>\n",
       "      <td>121.568409</td>\n",
       "    </tr>\n",
       "    <tr>\n",
       "      <th>4</th>\n",
       "      <td>241032</td>\n",
       "      <td>0</td>\n",
       "      <td>121.568409</td>\n",
       "    </tr>\n",
       "  </tbody>\n",
       "</table>\n",
       "</div>"
      ],
      "text/plain": [
       "   listing_id  available       price\n",
       "0      241032          1   85.000000\n",
       "1      241032          1   85.000000\n",
       "2      241032          0  121.568409\n",
       "3      241032          0  121.568409\n",
       "4      241032          0  121.568409"
      ]
     },
     "execution_count": 41,
     "metadata": {},
     "output_type": "execute_result"
    }
   ],
   "source": [
    "seattlePopular.drop(['date', 'month', 'year'], axis=1, inplace = True)\n",
    "seattlePopular.head()"
   ]
  },
  {
   "cell_type": "code",
   "execution_count": 42,
   "id": "702ff264",
   "metadata": {
    "execution": {
     "iopub.execute_input": "2022-06-06T14:20:14.259100Z",
     "iopub.status.busy": "2022-06-06T14:20:14.258691Z",
     "iopub.status.idle": "2022-06-06T14:20:14.317678Z",
     "shell.execute_reply": "2022-06-06T14:20:14.316855Z"
    },
    "papermill": {
     "duration": 0.082208,
     "end_time": "2022-06-06T14:20:14.319637",
     "exception": false,
     "start_time": "2022-06-06T14:20:14.237429",
     "status": "completed"
    },
    "tags": []
   },
   "outputs": [
    {
     "data": {
      "text/html": [
       "<div>\n",
       "<style scoped>\n",
       "    .dataframe tbody tr th:only-of-type {\n",
       "        vertical-align: middle;\n",
       "    }\n",
       "\n",
       "    .dataframe tbody tr th {\n",
       "        vertical-align: top;\n",
       "    }\n",
       "\n",
       "    .dataframe thead th {\n",
       "        text-align: right;\n",
       "    }\n",
       "</style>\n",
       "<table border=\"1\" class=\"dataframe\">\n",
       "  <thead>\n",
       "    <tr style=\"text-align: right;\">\n",
       "      <th></th>\n",
       "      <th>available</th>\n",
       "      <th>price</th>\n",
       "    </tr>\n",
       "    <tr>\n",
       "      <th>listing_id</th>\n",
       "      <th></th>\n",
       "      <th></th>\n",
       "    </tr>\n",
       "  </thead>\n",
       "  <tbody>\n",
       "    <tr>\n",
       "      <th>3335</th>\n",
       "      <td>0.846575</td>\n",
       "      <td>120.449713</td>\n",
       "    </tr>\n",
       "    <tr>\n",
       "      <th>4291</th>\n",
       "      <td>1.000000</td>\n",
       "      <td>82.000000</td>\n",
       "    </tr>\n",
       "    <tr>\n",
       "      <th>5682</th>\n",
       "      <td>0.846575</td>\n",
       "      <td>65.275291</td>\n",
       "    </tr>\n",
       "    <tr>\n",
       "      <th>6606</th>\n",
       "      <td>1.000000</td>\n",
       "      <td>92.849315</td>\n",
       "    </tr>\n",
       "    <tr>\n",
       "      <th>7369</th>\n",
       "      <td>0.145205</td>\n",
       "      <td>131.806329</td>\n",
       "    </tr>\n",
       "  </tbody>\n",
       "</table>\n",
       "</div>"
      ],
      "text/plain": [
       "            available       price\n",
       "listing_id                       \n",
       "3335         0.846575  120.449713\n",
       "4291         1.000000   82.000000\n",
       "5682         0.846575   65.275291\n",
       "6606         1.000000   92.849315\n",
       "7369         0.145205  131.806329"
      ]
     },
     "execution_count": 42,
     "metadata": {},
     "output_type": "execute_result"
    }
   ],
   "source": [
    "seattlePopular = seattlePopular.groupby(['listing_id']).mean()\n",
    "seattlePopular.head()"
   ]
  },
  {
   "cell_type": "code",
   "execution_count": 43,
   "id": "b24262a8",
   "metadata": {
    "execution": {
     "iopub.execute_input": "2022-06-06T14:20:14.361571Z",
     "iopub.status.busy": "2022-06-06T14:20:14.361169Z",
     "iopub.status.idle": "2022-06-06T14:20:14.405820Z",
     "shell.execute_reply": "2022-06-06T14:20:14.404895Z"
    },
    "papermill": {
     "duration": 0.068212,
     "end_time": "2022-06-06T14:20:14.407881",
     "exception": false,
     "start_time": "2022-06-06T14:20:14.339669",
     "status": "completed"
    },
    "tags": []
   },
   "outputs": [
    {
     "data": {
      "text/html": [
       "<style type=\"text/css\">\n",
       "#T_b4a48_row0_col0, #T_b4a48_row1_col1 {\n",
       "  background-color: #08306b;\n",
       "  color: #f1f1f1;\n",
       "}\n",
       "#T_b4a48_row0_col1, #T_b4a48_row1_col0 {\n",
       "  background-color: #f7fbff;\n",
       "  color: #000000;\n",
       "}\n",
       "</style>\n",
       "<table id=\"T_b4a48_\">\n",
       "  <thead>\n",
       "    <tr>\n",
       "      <th class=\"blank level0\" >&nbsp;</th>\n",
       "      <th class=\"col_heading level0 col0\" >available</th>\n",
       "      <th class=\"col_heading level0 col1\" >price</th>\n",
       "    </tr>\n",
       "  </thead>\n",
       "  <tbody>\n",
       "    <tr>\n",
       "      <th id=\"T_b4a48_level0_row0\" class=\"row_heading level0 row0\" >available</th>\n",
       "      <td id=\"T_b4a48_row0_col0\" class=\"data row0 col0\" >1.000000</td>\n",
       "      <td id=\"T_b4a48_row0_col1\" class=\"data row0 col1\" >-0.012546</td>\n",
       "    </tr>\n",
       "    <tr>\n",
       "      <th id=\"T_b4a48_level0_row1\" class=\"row_heading level0 row1\" >price</th>\n",
       "      <td id=\"T_b4a48_row1_col0\" class=\"data row1 col0\" >-0.012546</td>\n",
       "      <td id=\"T_b4a48_row1_col1\" class=\"data row1 col1\" >1.000000</td>\n",
       "    </tr>\n",
       "  </tbody>\n",
       "</table>\n"
      ],
      "text/plain": [
       "<pandas.io.formats.style.Styler at 0x7fc924921e50>"
      ]
     },
     "execution_count": 43,
     "metadata": {},
     "output_type": "execute_result"
    }
   ],
   "source": [
    "seattlePopular.corr().style.background_gradient(cmap=\"Blues\")"
   ]
  },
  {
   "cell_type": "markdown",
   "id": "42a379d1",
   "metadata": {
    "papermill": {
     "duration": 0.01806,
     "end_time": "2022-06-06T14:20:14.444834",
     "exception": false,
     "start_time": "2022-06-06T14:20:14.426774",
     "status": "completed"
    },
    "tags": []
   },
   "source": [
    "It appears there is no strong correlation between the popularity of airbnb homes and their prices."
   ]
  },
  {
   "cell_type": "markdown",
   "id": "56a93fb6",
   "metadata": {
    "papermill": {
     "duration": 0.018054,
     "end_time": "2022-06-06T14:20:14.480888",
     "exception": false,
     "start_time": "2022-06-06T14:20:14.462834",
     "status": "completed"
    },
    "tags": []
   },
   "source": [
    "#### Conclusion\n",
    "Firstly, it has to be put across that the Seattle Airbnb data used for this analysis was limited in several areas. It only provided data for 2016 and Jan of 2017 and there were no data for the price of listings on the days which it was booked.\n",
    "\n",
    "With this data, we concluded that for 2016, Jan was the busiest month for Airbnbs in Seattle, followed by Jul and Aug. However, the average price of Airbnbs were the lowest in Jan. Jul had the highest average price followed by Aug.\n",
    "\n",
    "We then determined that there were no correlation between either review scores and price, and the popularity of an Airbnb unit. There are other factors such as location which can be explored in future work to determine what matters to Airbnb renters and how homeowners can make their Airbnb more popular to them."
   ]
  }
 ],
 "metadata": {
  "kernelspec": {
   "display_name": "Python 3",
   "language": "python",
   "name": "python3"
  },
  "language_info": {
   "codemirror_mode": {
    "name": "ipython",
    "version": 3
   },
   "file_extension": ".py",
   "mimetype": "text/x-python",
   "name": "python",
   "nbconvert_exporter": "python",
   "pygments_lexer": "ipython3",
   "version": "3.7.12"
  },
  "papermill": {
   "default_parameters": {},
   "duration": 55.762015,
   "end_time": "2022-06-06T14:20:15.117367",
   "environment_variables": {},
   "exception": null,
   "input_path": "__notebook__.ipynb",
   "output_path": "__notebook__.ipynb",
   "parameters": {},
   "start_time": "2022-06-06T14:19:19.355352",
   "version": "2.3.4"
  }
 },
 "nbformat": 4,
 "nbformat_minor": 5
}
